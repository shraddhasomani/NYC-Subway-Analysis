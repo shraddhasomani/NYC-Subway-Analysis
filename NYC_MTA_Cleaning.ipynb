{
 "cells": [
  {
   "cell_type": "code",
   "execution_count": 1,
   "metadata": {
    "collapsed": true
   },
   "outputs": [],
   "source": [
    "import urllib\n",
    "import urllib.request\n",
    "import datetime\n",
    "import pandas as pd\n",
    "import numpy as np\n",
    "from pandas import read_csv  \n",
    "import random as rd # generating random numbers\n",
    "#from datetime import datetime\n",
    "import os\n",
    "%matplotlib inline\n",
    "import matplotlib.pyplot as plt\n",
    "import seaborn as sns"
   ]
  },
  {
   "cell_type": "code",
   "execution_count": 5,
   "metadata": {},
   "outputs": [
    {
     "name": "stderr",
     "output_type": "stream",
     "text": [
      "C:\\Users\\Shraddha Somani\\Anaconda3\\lib\\site-packages\\IPython\\core\\interactiveshell.py:2717: DtypeWarning: Columns (9,10) have mixed types. Specify dtype option on import or set low_memory=False.\n",
      "  interactivity=interactivity, compiler=compiler, result=result)\n"
     ]
    }
   ],
   "source": [
    "df = read_csv('nyc_mta_data.csv')"
   ]
  },
  {
   "cell_type": "code",
   "execution_count": 6,
   "metadata": {},
   "outputs": [
    {
     "data": {
      "text/html": [
       "<div>\n",
       "<style>\n",
       "    .dataframe thead tr:only-child th {\n",
       "        text-align: right;\n",
       "    }\n",
       "\n",
       "    .dataframe thead th {\n",
       "        text-align: left;\n",
       "    }\n",
       "\n",
       "    .dataframe tbody tr th {\n",
       "        vertical-align: top;\n",
       "    }\n",
       "</style>\n",
       "<table border=\"1\" class=\"dataframe\">\n",
       "  <thead>\n",
       "    <tr style=\"text-align: right;\">\n",
       "      <th></th>\n",
       "      <th>C/A</th>\n",
       "      <th>UNIT</th>\n",
       "      <th>SCP</th>\n",
       "      <th>STATION</th>\n",
       "      <th>LINENAME</th>\n",
       "      <th>DIVISION</th>\n",
       "      <th>DATE</th>\n",
       "      <th>TIME</th>\n",
       "      <th>DESC</th>\n",
       "      <th>ENTRIES</th>\n",
       "      <th>EXITS</th>\n",
       "    </tr>\n",
       "  </thead>\n",
       "  <tbody>\n",
       "    <tr>\n",
       "      <th>count</th>\n",
       "      <td>10267862</td>\n",
       "      <td>10267862</td>\n",
       "      <td>10267862</td>\n",
       "      <td>10267862</td>\n",
       "      <td>10267862</td>\n",
       "      <td>10267862</td>\n",
       "      <td>10267862</td>\n",
       "      <td>10267862</td>\n",
       "      <td>10267862</td>\n",
       "      <td>10267862</td>\n",
       "      <td>10267862</td>\n",
       "    </tr>\n",
       "    <tr>\n",
       "      <th>unique</th>\n",
       "      <td>732</td>\n",
       "      <td>468</td>\n",
       "      <td>220</td>\n",
       "      <td>377</td>\n",
       "      <td>129</td>\n",
       "      <td>7</td>\n",
       "      <td>372</td>\n",
       "      <td>85384</td>\n",
       "      <td>3</td>\n",
       "      <td>6860803</td>\n",
       "      <td>6738931</td>\n",
       "    </tr>\n",
       "    <tr>\n",
       "      <th>top</th>\n",
       "      <td>PTH05</td>\n",
       "      <td>R549</td>\n",
       "      <td>00-00-00</td>\n",
       "      <td>34 ST-PENN STA</td>\n",
       "      <td>1</td>\n",
       "      <td>IRT</td>\n",
       "      <td>02/19/2016</td>\n",
       "      <td>04:00:00</td>\n",
       "      <td>REGULAR</td>\n",
       "      <td>0</td>\n",
       "      <td>0</td>\n",
       "    </tr>\n",
       "    <tr>\n",
       "      <th>freq</th>\n",
       "      <td>54629</td>\n",
       "      <td>131650</td>\n",
       "      <td>1028471</td>\n",
       "      <td>223582</td>\n",
       "      <td>1157633</td>\n",
       "      <td>3790711</td>\n",
       "      <td>34773</td>\n",
       "      <td>794799</td>\n",
       "      <td>10225225</td>\n",
       "      <td>134111</td>\n",
       "      <td>258467</td>\n",
       "    </tr>\n",
       "  </tbody>\n",
       "</table>\n",
       "</div>"
      ],
      "text/plain": [
       "             C/A      UNIT       SCP         STATION  LINENAME  DIVISION  \\\n",
       "count   10267862  10267862  10267862        10267862  10267862  10267862   \n",
       "unique       732       468       220             377       129         7   \n",
       "top        PTH05      R549  00-00-00  34 ST-PENN STA         1       IRT   \n",
       "freq       54629    131650   1028471          223582   1157633   3790711   \n",
       "\n",
       "              DATE      TIME      DESC   ENTRIES  \\\n",
       "count     10267862  10267862  10267862  10267862   \n",
       "unique         372     85384         3   6860803   \n",
       "top     02/19/2016  04:00:00   REGULAR         0   \n",
       "freq         34773    794799  10225225    134111   \n",
       "\n",
       "        EXITS                                                                 \n",
       "count                                            10267862                     \n",
       "unique                                            6738931                     \n",
       "top                                                     0                     \n",
       "freq                                               258467                     "
      ]
     },
     "execution_count": 6,
     "metadata": {},
     "output_type": "execute_result"
    }
   ],
   "source": [
    "df.describe()"
   ]
  },
  {
   "cell_type": "markdown",
   "metadata": {},
   "source": [
    "Total number of records in our dataset are: 10267862 rows x 11 columns. Approximately a total of 1.25GB of data."
   ]
  },
  {
   "cell_type": "code",
   "execution_count": 7,
   "metadata": {},
   "outputs": [
    {
     "data": {
      "text/html": [
       "<div>\n",
       "<style>\n",
       "    .dataframe thead tr:only-child th {\n",
       "        text-align: right;\n",
       "    }\n",
       "\n",
       "    .dataframe thead th {\n",
       "        text-align: left;\n",
       "    }\n",
       "\n",
       "    .dataframe tbody tr th {\n",
       "        vertical-align: top;\n",
       "    }\n",
       "</style>\n",
       "<table border=\"1\" class=\"dataframe\">\n",
       "  <thead>\n",
       "    <tr style=\"text-align: right;\">\n",
       "      <th></th>\n",
       "      <th>C/A</th>\n",
       "      <th>UNIT</th>\n",
       "      <th>SCP</th>\n",
       "      <th>STATION</th>\n",
       "      <th>LINENAME</th>\n",
       "      <th>DIVISION</th>\n",
       "      <th>DATE</th>\n",
       "      <th>TIME</th>\n",
       "      <th>DESC</th>\n",
       "      <th>ENTRIES</th>\n",
       "      <th>EXITS</th>\n",
       "    </tr>\n",
       "  </thead>\n",
       "  <tbody>\n",
       "    <tr>\n",
       "      <th>0</th>\n",
       "      <td>A002</td>\n",
       "      <td>R051</td>\n",
       "      <td>02-00-00</td>\n",
       "      <td>59 ST</td>\n",
       "      <td>NQR456W</td>\n",
       "      <td>BMT</td>\n",
       "      <td>12/24/2016</td>\n",
       "      <td>03:00:00</td>\n",
       "      <td>REGULAR</td>\n",
       "      <td>5980509</td>\n",
       "      <td>2025806</td>\n",
       "    </tr>\n",
       "    <tr>\n",
       "      <th>1</th>\n",
       "      <td>A002</td>\n",
       "      <td>R051</td>\n",
       "      <td>02-00-00</td>\n",
       "      <td>59 ST</td>\n",
       "      <td>NQR456W</td>\n",
       "      <td>BMT</td>\n",
       "      <td>12/24/2016</td>\n",
       "      <td>07:00:00</td>\n",
       "      <td>REGULAR</td>\n",
       "      <td>5980531</td>\n",
       "      <td>2025818</td>\n",
       "    </tr>\n",
       "    <tr>\n",
       "      <th>2</th>\n",
       "      <td>A002</td>\n",
       "      <td>R051</td>\n",
       "      <td>02-00-00</td>\n",
       "      <td>59 ST</td>\n",
       "      <td>NQR456W</td>\n",
       "      <td>BMT</td>\n",
       "      <td>12/24/2016</td>\n",
       "      <td>11:00:00</td>\n",
       "      <td>REGULAR</td>\n",
       "      <td>5980613</td>\n",
       "      <td>2025912</td>\n",
       "    </tr>\n",
       "    <tr>\n",
       "      <th>3</th>\n",
       "      <td>A002</td>\n",
       "      <td>R051</td>\n",
       "      <td>02-00-00</td>\n",
       "      <td>59 ST</td>\n",
       "      <td>NQR456W</td>\n",
       "      <td>BMT</td>\n",
       "      <td>12/24/2016</td>\n",
       "      <td>15:00:00</td>\n",
       "      <td>REGULAR</td>\n",
       "      <td>5980899</td>\n",
       "      <td>2025965</td>\n",
       "    </tr>\n",
       "    <tr>\n",
       "      <th>4</th>\n",
       "      <td>A002</td>\n",
       "      <td>R051</td>\n",
       "      <td>02-00-00</td>\n",
       "      <td>59 ST</td>\n",
       "      <td>NQR456W</td>\n",
       "      <td>BMT</td>\n",
       "      <td>12/24/2016</td>\n",
       "      <td>19:00:00</td>\n",
       "      <td>REGULAR</td>\n",
       "      <td>5981382</td>\n",
       "      <td>2026001</td>\n",
       "    </tr>\n",
       "  </tbody>\n",
       "</table>\n",
       "</div>"
      ],
      "text/plain": [
       "    C/A  UNIT       SCP STATION LINENAME DIVISION        DATE      TIME  \\\n",
       "0  A002  R051  02-00-00   59 ST  NQR456W      BMT  12/24/2016  03:00:00   \n",
       "1  A002  R051  02-00-00   59 ST  NQR456W      BMT  12/24/2016  07:00:00   \n",
       "2  A002  R051  02-00-00   59 ST  NQR456W      BMT  12/24/2016  11:00:00   \n",
       "3  A002  R051  02-00-00   59 ST  NQR456W      BMT  12/24/2016  15:00:00   \n",
       "4  A002  R051  02-00-00   59 ST  NQR456W      BMT  12/24/2016  19:00:00   \n",
       "\n",
       "      DESC  ENTRIES  \\\n",
       "0  REGULAR  5980509   \n",
       "1  REGULAR  5980531   \n",
       "2  REGULAR  5980613   \n",
       "3  REGULAR  5980899   \n",
       "4  REGULAR  5981382   \n",
       "\n",
       "  EXITS                                                                 \n",
       "0                                            2025806                    \n",
       "1                                            2025818                    \n",
       "2                                            2025912                    \n",
       "3                                            2025965                    \n",
       "4                                            2026001                    "
      ]
     },
     "execution_count": 7,
     "metadata": {},
     "output_type": "execute_result"
    }
   ],
   "source": [
    "df.head()"
   ]
  },
  {
   "cell_type": "code",
   "execution_count": 8,
   "metadata": {
    "scrolled": true
   },
   "outputs": [
    {
     "data": {
      "text/html": [
       "<div>\n",
       "<style>\n",
       "    .dataframe thead tr:only-child th {\n",
       "        text-align: right;\n",
       "    }\n",
       "\n",
       "    .dataframe thead th {\n",
       "        text-align: left;\n",
       "    }\n",
       "\n",
       "    .dataframe tbody tr th {\n",
       "        vertical-align: top;\n",
       "    }\n",
       "</style>\n",
       "<table border=\"1\" class=\"dataframe\">\n",
       "  <thead>\n",
       "    <tr style=\"text-align: right;\">\n",
       "      <th></th>\n",
       "      <th>C/A</th>\n",
       "      <th>UNIT</th>\n",
       "      <th>SCP</th>\n",
       "      <th>STATION</th>\n",
       "      <th>LINENAME</th>\n",
       "      <th>DIVISION</th>\n",
       "      <th>DATE</th>\n",
       "      <th>TIME</th>\n",
       "      <th>DESC</th>\n",
       "      <th>ENTRIES</th>\n",
       "      <th>EXITS</th>\n",
       "    </tr>\n",
       "  </thead>\n",
       "  <tbody>\n",
       "    <tr>\n",
       "      <th>10267857</th>\n",
       "      <td>TRAM2</td>\n",
       "      <td>R469</td>\n",
       "      <td>00-05-01</td>\n",
       "      <td>RIT-ROOSEVELT</td>\n",
       "      <td>R</td>\n",
       "      <td>RIT</td>\n",
       "      <td>01/01/2016</td>\n",
       "      <td>04:00:00</td>\n",
       "      <td>REGULAR</td>\n",
       "      <td>5554</td>\n",
       "      <td>230</td>\n",
       "    </tr>\n",
       "    <tr>\n",
       "      <th>10267858</th>\n",
       "      <td>TRAM2</td>\n",
       "      <td>R469</td>\n",
       "      <td>00-05-01</td>\n",
       "      <td>RIT-ROOSEVELT</td>\n",
       "      <td>R</td>\n",
       "      <td>RIT</td>\n",
       "      <td>01/01/2016</td>\n",
       "      <td>08:00:00</td>\n",
       "      <td>REGULAR</td>\n",
       "      <td>5554</td>\n",
       "      <td>230</td>\n",
       "    </tr>\n",
       "    <tr>\n",
       "      <th>10267859</th>\n",
       "      <td>TRAM2</td>\n",
       "      <td>R469</td>\n",
       "      <td>00-05-01</td>\n",
       "      <td>RIT-ROOSEVELT</td>\n",
       "      <td>R</td>\n",
       "      <td>RIT</td>\n",
       "      <td>01/01/2016</td>\n",
       "      <td>12:00:00</td>\n",
       "      <td>REGULAR</td>\n",
       "      <td>5554</td>\n",
       "      <td>230</td>\n",
       "    </tr>\n",
       "    <tr>\n",
       "      <th>10267860</th>\n",
       "      <td>TRAM2</td>\n",
       "      <td>R469</td>\n",
       "      <td>00-05-01</td>\n",
       "      <td>RIT-ROOSEVELT</td>\n",
       "      <td>R</td>\n",
       "      <td>RIT</td>\n",
       "      <td>01/01/2016</td>\n",
       "      <td>16:00:00</td>\n",
       "      <td>REGULAR</td>\n",
       "      <td>5554</td>\n",
       "      <td>230</td>\n",
       "    </tr>\n",
       "    <tr>\n",
       "      <th>10267861</th>\n",
       "      <td>TRAM2</td>\n",
       "      <td>R469</td>\n",
       "      <td>00-05-01</td>\n",
       "      <td>RIT-ROOSEVELT</td>\n",
       "      <td>R</td>\n",
       "      <td>RIT</td>\n",
       "      <td>01/01/2016</td>\n",
       "      <td>20:00:00</td>\n",
       "      <td>REGULAR</td>\n",
       "      <td>5554</td>\n",
       "      <td>230</td>\n",
       "    </tr>\n",
       "  </tbody>\n",
       "</table>\n",
       "</div>"
      ],
      "text/plain": [
       "            C/A  UNIT       SCP        STATION LINENAME DIVISION        DATE  \\\n",
       "10267857  TRAM2  R469  00-05-01  RIT-ROOSEVELT        R      RIT  01/01/2016   \n",
       "10267858  TRAM2  R469  00-05-01  RIT-ROOSEVELT        R      RIT  01/01/2016   \n",
       "10267859  TRAM2  R469  00-05-01  RIT-ROOSEVELT        R      RIT  01/01/2016   \n",
       "10267860  TRAM2  R469  00-05-01  RIT-ROOSEVELT        R      RIT  01/01/2016   \n",
       "10267861  TRAM2  R469  00-05-01  RIT-ROOSEVELT        R      RIT  01/01/2016   \n",
       "\n",
       "              TIME     DESC ENTRIES  \\\n",
       "10267857  04:00:00  REGULAR    5554   \n",
       "10267858  08:00:00  REGULAR    5554   \n",
       "10267859  12:00:00  REGULAR    5554   \n",
       "10267860  16:00:00  REGULAR    5554   \n",
       "10267861  20:00:00  REGULAR    5554   \n",
       "\n",
       "         EXITS                                                                 \n",
       "10267857                                                230                    \n",
       "10267858                                                230                    \n",
       "10267859                                                230                    \n",
       "10267860                                                230                    \n",
       "10267861                                                230                    "
      ]
     },
     "execution_count": 8,
     "metadata": {},
     "output_type": "execute_result"
    }
   ],
   "source": [
    "df.tail()"
   ]
  },
  {
   "cell_type": "markdown",
   "metadata": {},
   "source": [
    "## Data Cleaning "
   ]
  },
  {
   "cell_type": "code",
   "execution_count": 9,
   "metadata": {},
   "outputs": [
    {
     "data": {
      "text/plain": [
       "Index(['C/A', 'UNIT', 'SCP', 'STATION', 'LINENAME', 'DIVISION', 'DATE', 'TIME',\n",
       "       'DESC', 'ENTRIES',\n",
       "       'EXITS                                                               '],\n",
       "      dtype='object')"
      ]
     },
     "execution_count": 9,
     "metadata": {},
     "output_type": "execute_result"
    }
   ],
   "source": [
    "df.columns"
   ]
  },
  {
   "cell_type": "markdown",
   "metadata": {},
   "source": [
    "##### Remove white space from header"
   ]
  },
  {
   "cell_type": "code",
   "execution_count": 10,
   "metadata": {},
   "outputs": [
    {
     "data": {
      "text/plain": [
       "Index(['C/A', 'UNIT', 'SCP', 'STATION', 'LINENAME', 'DIVISION', 'DATE', 'TIME',\n",
       "       'DESC', 'ENTRIES', 'EXITS'],\n",
       "      dtype='object')"
      ]
     },
     "execution_count": 10,
     "metadata": {},
     "output_type": "execute_result"
    }
   ],
   "source": [
    "df.columns = df.columns.str.strip()\n",
    "df.columns"
   ]
  },
  {
   "cell_type": "markdown",
   "metadata": {},
   "source": [
    "##### Drop duplicate value"
   ]
  },
  {
   "cell_type": "code",
   "execution_count": 11,
   "metadata": {},
   "outputs": [
    {
     "data": {
      "text/plain": [
       "False    10267811\n",
       "True           51\n",
       "dtype: int64"
      ]
     },
     "execution_count": 11,
     "metadata": {},
     "output_type": "execute_result"
    }
   ],
   "source": [
    "df.duplicated().value_counts()"
   ]
  },
  {
   "cell_type": "code",
   "execution_count": 12,
   "metadata": {
    "collapsed": true
   },
   "outputs": [],
   "source": [
    "df = df.drop_duplicates()"
   ]
  },
  {
   "cell_type": "markdown",
   "metadata": {},
   "source": [
    "##### Drop NA values, if any"
   ]
  },
  {
   "cell_type": "code",
   "execution_count": 13,
   "metadata": {
    "collapsed": true
   },
   "outputs": [],
   "source": [
    "df = df.dropna()"
   ]
  },
  {
   "cell_type": "markdown",
   "metadata": {},
   "source": [
    "##### Check unique values "
   ]
  },
  {
   "cell_type": "code",
   "execution_count": 14,
   "metadata": {
    "collapsed": true
   },
   "outputs": [],
   "source": [
    "df['C/A'].unique()\n",
    "df = df.drop(df[df['C/A'] == 'C/A'].index)\n",
    "# df['UNIT'].unique()\n",
    "# df = df.drop(df[df['UNIT'] == 'UNIT'].index)\n",
    "# df['SCP'].unique()\n",
    "# df = df.drop(df[df['SCP'] == 'SCP'].index)\n",
    "# df = df.drop(df[df['SCP'] == ''].index)\n",
    "# df['LINENAME'].unique()\n",
    "# df = df.drop(df[df['LINENAME'] == 'LINENAME'].index)\n",
    "# df['DIVISION'].unique()\n",
    "# df = df.drop(df[df['DIVISION'] == 'DIVISION'].index)\n",
    "# df['DATE'].unique()\n",
    "# df = df.drop(df[df['DATE'] == 'DATE'].index)\n",
    "# df['DESC'].unique()\n",
    "# df = df.drop(df[df['DESC'] == 'DESC'].index)"
   ]
  },
  {
   "cell_type": "markdown",
   "metadata": {},
   "source": [
    "##### Renaming station names "
   ]
  },
  {
   "cell_type": "code",
   "execution_count": 15,
   "metadata": {
    "collapsed": true
   },
   "outputs": [],
   "source": [
    "df['STATION'] = df['STATION'].replace(['AVENUE', 'AVEE', 'AV'], 'AVE')"
   ]
  },
  {
   "cell_type": "code",
   "execution_count": 16,
   "metadata": {
    "collapsed": true
   },
   "outputs": [],
   "source": [
    "df['STATION'] = df['STATION'].replace(['PKWY'], 'PARKWAY')"
   ]
  },
  {
   "cell_type": "code",
   "execution_count": 17,
   "metadata": {
    "collapsed": true
   },
   "outputs": [],
   "source": [
    "df.loc[df['STATION'] == 'TIMES SQ-42 ST', 'STATION'] = '42 ST-TIMES SQ'\n",
    "df.loc[df['STATION'] == '137 ST CITY COL', 'STATION'] = '137 ST-CITY COL'\n",
    "df.loc[df['STATION'] == '182-183 STS', 'STATION'] = '182-183 ST'\n",
    "df.loc[df['STATION'] == '33 ST-RAWSON ST', 'STATION'] = '33 ST/RAWSON ST'\n",
    "df.loc[df['STATION'] == '40 ST LOWERY ST', 'STATION'] = '40 ST-LOWERY ST'\n",
    "df.loc[df['STATION'] == '5 AVE/59 ST', 'STATION'] = '5 AVE-59 ST'\n",
    "df.loc[df['STATION'] == '59 ST COLUMBUS', 'STATION'] = '59 ST-COLUMBUS'\n",
    "df.loc[df['STATION'] == 'ASTOR PL', 'STATION'] = 'ASTOR PLACE'\n",
    "df.loc[df['STATION'] == 'BEDFORD PK BLVD', 'STATION'] = 'BEDFORD PARK BL'\n",
    "df.loc[df['STATION'] == 'BEVERLY RD', 'STATION'] = 'BEVERLY ROAD'\n",
    "df.loc[df['STATION'] == 'CORTELYOU RD', 'STATION'] = 'CORTELYOU ROAD'\n",
    "df.loc[df['STATION'] == 'FRESH POND RD', 'STATION'] = 'FRESH POND ROAD'\n",
    "df.loc[df['STATION'] == 'HOWARD BCH JFK', 'STATION'] = 'HOWARD BCH-JFK'\n",
    "df.loc[df['STATION'] == 'NECK RD', 'STATION'] = 'NECK ROAD'\n",
    "df.loc[df['STATION'] == 'VERNON-JACKSON', 'STATION'] = 'VERNON/JACKSON'\n",
    "df.loc[df['STATION'] == 'WAKEFIELD/241', 'STATION'] = 'WAKEFIELD-241'\n",
    "df.loc[df['STATION'] == 'GRD CNTRL-42 ST', 'STATION'] = '42 ST-GRD CNTRL'"
   ]
  },
  {
   "cell_type": "markdown",
   "metadata": {},
   "source": [
    "##### Drop stations names that do not exists"
   ]
  },
  {
   "cell_type": "code",
   "execution_count": 18,
   "metadata": {
    "collapsed": true
   },
   "outputs": [],
   "source": [
    "df.loc[df['STATION'] == '161/YANKEE STAD', 'STATION'] = 0\n",
    "df.loc[df['STATION'] == '168 ST', 'STATION'] = 0\n",
    "df.loc[df['STATION'] == '138/GRAND CONC', 'STATION'] = 0\n",
    "df.loc[df['STATION'] == '3 AVE-149 ST', 'STATION'] = 0\n",
    "df.loc[df['STATION'] == '30 AVE', 'STATION'] = 0\n",
    "df.loc[df['STATION'] == '34 ST-HUDSON YD', 'STATION'] = 0\n",
    "df.loc[df['STATION'] == '36 AVE', 'STATION'] = 0\n",
    "df.loc[df['STATION'] == '4 AVE-9 ST', 'STATION'] = 0\n",
    "df.loc[df['STATION'] == '42 ST-PORT AUTH', 'STATION'] = 0\n",
    "df.loc[df['STATION'] == '80 ST', 'STATION'] = 0\n",
    "df.loc[df['STATION'] == '88 ST', 'STATION'] = 0\n",
    "df.loc[df['STATION'] == 'BROADWAY JCT', 'STATION'] = 0\n",
    "df.loc[df['STATION'] == \"B'WAY-LAFAYETTE\", 'STATION'] = 0\n",
    "df.loc[df['STATION'] == 'CANARSIE-ROCKAW', 'STATION'] = 0\n",
    "df.loc[df['STATION'] == 'CATHEDRAL PARKWAY', 'STATION'] = 0\n",
    "df.loc[df['STATION'] == 'EASTCHSTER/DYRE', 'STATION'] = 0\n",
    "df.loc[df['STATION'] == 'FLATBUSH AVE-B.C', 'STATION'] = 0\n",
    "df.loc[df['STATION'] == 'HARLEM 148 ST', 'STATION'] = 0\n",
    "df.loc[df['STATION'] == 'KEW GARDENS', 'STATION'] = 0\n",
    "df.loc[df['STATION'] == 'LEXINGTON AVE/63', 'STATION'] = 0\n",
    "df.loc[df['STATION'] == 'MORISN AVE/SNDVW', 'STATION'] = 0\n",
    "df.loc[df['STATION'] == 'NEWKIRK PLAZA', 'STATION'] = 0\n",
    "df.loc[df['STATION'] == 'OZONE PK LEFFRT', 'STATION'] = 0\n",
    "df.loc[df['STATION'] == 'PARKCHESTER', 'STATION'] = 0\n",
    "df.loc[df['STATION'] == 'PATH NEW WTC', 'STATION'] = 0\n",
    "df.loc[df['STATION'] == 'SUTPHIN-ARCHER', 'STATION'] = 0\n",
    "df.loc[df['STATION'] == 'SUTTER AVE-RUTLD', 'STATION'] = 0\n",
    "df.loc[df['STATION'] == 'V.CORTLANDT PK', 'STATION'] = 0"
   ]
  },
  {
   "cell_type": "code",
   "execution_count": 19,
   "metadata": {
    "collapsed": true
   },
   "outputs": [],
   "source": [
    "df = df.drop(df[df['STATION'] == 0].index)"
   ]
  },
  {
   "cell_type": "markdown",
   "metadata": {
    "collapsed": true
   },
   "source": [
    "##### Format date "
   ]
  },
  {
   "cell_type": "code",
   "execution_count": 20,
   "metadata": {
    "collapsed": true
   },
   "outputs": [],
   "source": [
    "df['DATETIME'] = pd.to_datetime(df['DATE'] + ' ' + df['TIME'], format = \"%m/%d/%Y %H:%M:%S\", errors = 'coerce')"
   ]
  },
  {
   "cell_type": "code",
   "execution_count": 21,
   "metadata": {
    "collapsed": true
   },
   "outputs": [],
   "source": [
    "df['YEAR'] = df['DATETIME'].dt.year.astype(int)\n",
    "df['MONTH'] = df['DATETIME'].dt.month.astype(int)\n",
    "df['DAY'] = df['DATETIME'].dt.day.astype(int)\n",
    "df['WEEKDAY'] = df['DATETIME'].dt.weekday_name\n",
    "df['TIME'] = df['DATETIME'].dt.time"
   ]
  },
  {
   "cell_type": "code",
   "execution_count": 22,
   "metadata": {},
   "outputs": [
    {
     "data": {
      "text/html": [
       "<div>\n",
       "<style>\n",
       "    .dataframe thead tr:only-child th {\n",
       "        text-align: right;\n",
       "    }\n",
       "\n",
       "    .dataframe thead th {\n",
       "        text-align: left;\n",
       "    }\n",
       "\n",
       "    .dataframe tbody tr th {\n",
       "        vertical-align: top;\n",
       "    }\n",
       "</style>\n",
       "<table border=\"1\" class=\"dataframe\">\n",
       "  <thead>\n",
       "    <tr style=\"text-align: right;\">\n",
       "      <th></th>\n",
       "      <th>C/A</th>\n",
       "      <th>UNIT</th>\n",
       "      <th>SCP</th>\n",
       "      <th>STATION</th>\n",
       "      <th>LINENAME</th>\n",
       "      <th>DIVISION</th>\n",
       "      <th>DATE</th>\n",
       "      <th>TIME</th>\n",
       "      <th>DESC</th>\n",
       "      <th>ENTRIES</th>\n",
       "      <th>EXITS</th>\n",
       "      <th>DATETIME</th>\n",
       "      <th>YEAR</th>\n",
       "      <th>MONTH</th>\n",
       "      <th>DAY</th>\n",
       "      <th>WEEKDAY</th>\n",
       "    </tr>\n",
       "  </thead>\n",
       "  <tbody>\n",
       "    <tr>\n",
       "      <th>0</th>\n",
       "      <td>A002</td>\n",
       "      <td>R051</td>\n",
       "      <td>02-00-00</td>\n",
       "      <td>59 ST</td>\n",
       "      <td>NQR456W</td>\n",
       "      <td>BMT</td>\n",
       "      <td>12/24/2016</td>\n",
       "      <td>03:00:00</td>\n",
       "      <td>REGULAR</td>\n",
       "      <td>5980509</td>\n",
       "      <td>2025806</td>\n",
       "      <td>2016-12-24 03:00:00</td>\n",
       "      <td>2016</td>\n",
       "      <td>12</td>\n",
       "      <td>24</td>\n",
       "      <td>Saturday</td>\n",
       "    </tr>\n",
       "    <tr>\n",
       "      <th>1</th>\n",
       "      <td>A002</td>\n",
       "      <td>R051</td>\n",
       "      <td>02-00-00</td>\n",
       "      <td>59 ST</td>\n",
       "      <td>NQR456W</td>\n",
       "      <td>BMT</td>\n",
       "      <td>12/24/2016</td>\n",
       "      <td>07:00:00</td>\n",
       "      <td>REGULAR</td>\n",
       "      <td>5980531</td>\n",
       "      <td>2025818</td>\n",
       "      <td>2016-12-24 07:00:00</td>\n",
       "      <td>2016</td>\n",
       "      <td>12</td>\n",
       "      <td>24</td>\n",
       "      <td>Saturday</td>\n",
       "    </tr>\n",
       "    <tr>\n",
       "      <th>2</th>\n",
       "      <td>A002</td>\n",
       "      <td>R051</td>\n",
       "      <td>02-00-00</td>\n",
       "      <td>59 ST</td>\n",
       "      <td>NQR456W</td>\n",
       "      <td>BMT</td>\n",
       "      <td>12/24/2016</td>\n",
       "      <td>11:00:00</td>\n",
       "      <td>REGULAR</td>\n",
       "      <td>5980613</td>\n",
       "      <td>2025912</td>\n",
       "      <td>2016-12-24 11:00:00</td>\n",
       "      <td>2016</td>\n",
       "      <td>12</td>\n",
       "      <td>24</td>\n",
       "      <td>Saturday</td>\n",
       "    </tr>\n",
       "    <tr>\n",
       "      <th>3</th>\n",
       "      <td>A002</td>\n",
       "      <td>R051</td>\n",
       "      <td>02-00-00</td>\n",
       "      <td>59 ST</td>\n",
       "      <td>NQR456W</td>\n",
       "      <td>BMT</td>\n",
       "      <td>12/24/2016</td>\n",
       "      <td>15:00:00</td>\n",
       "      <td>REGULAR</td>\n",
       "      <td>5980899</td>\n",
       "      <td>2025965</td>\n",
       "      <td>2016-12-24 15:00:00</td>\n",
       "      <td>2016</td>\n",
       "      <td>12</td>\n",
       "      <td>24</td>\n",
       "      <td>Saturday</td>\n",
       "    </tr>\n",
       "    <tr>\n",
       "      <th>4</th>\n",
       "      <td>A002</td>\n",
       "      <td>R051</td>\n",
       "      <td>02-00-00</td>\n",
       "      <td>59 ST</td>\n",
       "      <td>NQR456W</td>\n",
       "      <td>BMT</td>\n",
       "      <td>12/24/2016</td>\n",
       "      <td>19:00:00</td>\n",
       "      <td>REGULAR</td>\n",
       "      <td>5981382</td>\n",
       "      <td>2026001</td>\n",
       "      <td>2016-12-24 19:00:00</td>\n",
       "      <td>2016</td>\n",
       "      <td>12</td>\n",
       "      <td>24</td>\n",
       "      <td>Saturday</td>\n",
       "    </tr>\n",
       "  </tbody>\n",
       "</table>\n",
       "</div>"
      ],
      "text/plain": [
       "    C/A  UNIT       SCP STATION LINENAME DIVISION        DATE      TIME  \\\n",
       "0  A002  R051  02-00-00   59 ST  NQR456W      BMT  12/24/2016  03:00:00   \n",
       "1  A002  R051  02-00-00   59 ST  NQR456W      BMT  12/24/2016  07:00:00   \n",
       "2  A002  R051  02-00-00   59 ST  NQR456W      BMT  12/24/2016  11:00:00   \n",
       "3  A002  R051  02-00-00   59 ST  NQR456W      BMT  12/24/2016  15:00:00   \n",
       "4  A002  R051  02-00-00   59 ST  NQR456W      BMT  12/24/2016  19:00:00   \n",
       "\n",
       "      DESC  ENTRIES    EXITS            DATETIME  YEAR  MONTH  DAY   WEEKDAY  \n",
       "0  REGULAR  5980509  2025806 2016-12-24 03:00:00  2016     12   24  Saturday  \n",
       "1  REGULAR  5980531  2025818 2016-12-24 07:00:00  2016     12   24  Saturday  \n",
       "2  REGULAR  5980613  2025912 2016-12-24 11:00:00  2016     12   24  Saturday  \n",
       "3  REGULAR  5980899  2025965 2016-12-24 15:00:00  2016     12   24  Saturday  \n",
       "4  REGULAR  5981382  2026001 2016-12-24 19:00:00  2016     12   24  Saturday  "
      ]
     },
     "execution_count": 22,
     "metadata": {},
     "output_type": "execute_result"
    }
   ],
   "source": [
    "df.head()"
   ]
  },
  {
   "cell_type": "markdown",
   "metadata": {},
   "source": [
    "##### Check unique year"
   ]
  },
  {
   "cell_type": "code",
   "execution_count": 23,
   "metadata": {},
   "outputs": [
    {
     "data": {
      "text/plain": [
       "array([2016, 2015], dtype=int64)"
      ]
     },
     "execution_count": 23,
     "metadata": {},
     "output_type": "execute_result"
    }
   ],
   "source": [
    "df['YEAR'].unique()"
   ]
  },
  {
   "cell_type": "markdown",
   "metadata": {},
   "source": [
    "##### Drop 2015 Year  "
   ]
  },
  {
   "cell_type": "code",
   "execution_count": 24,
   "metadata": {
    "collapsed": true
   },
   "outputs": [],
   "source": [
    "df = df.drop(df[df['YEAR'] == 2015].index)"
   ]
  },
  {
   "cell_type": "code",
   "execution_count": 25,
   "metadata": {},
   "outputs": [
    {
     "data": {
      "text/plain": [
       "C/A         9557107\n",
       "UNIT        9557107\n",
       "SCP         9557107\n",
       "STATION     9557107\n",
       "LINENAME    9557107\n",
       "DIVISION    9557107\n",
       "DATE        9557107\n",
       "TIME        9557107\n",
       "DESC        9557107\n",
       "ENTRIES     9557107\n",
       "EXITS       9557107\n",
       "DATETIME    9557107\n",
       "YEAR        9557107\n",
       "MONTH       9557107\n",
       "DAY         9557107\n",
       "WEEKDAY     9557107\n",
       "dtype: int64"
      ]
     },
     "execution_count": 25,
     "metadata": {},
     "output_type": "execute_result"
    }
   ],
   "source": [
    "df.count()"
   ]
  },
  {
   "cell_type": "markdown",
   "metadata": {},
   "source": [
    "After data cleaning and preprocessing, the total number of records are: 9557107 rows x 16 columns. Approximately a total of 1.26GB of data. "
   ]
  },
  {
   "cell_type": "code",
   "execution_count": 26,
   "metadata": {
    "collapsed": true
   },
   "outputs": [],
   "source": [
    "# Write cleaned and preprocessed dataframe to csv file\n",
    "df.to_csv('nyc_mta_final.csv')"
   ]
  }
 ],
 "metadata": {
  "kernelspec": {
   "display_name": "Python 3",
   "language": "python",
   "name": "python3"
  },
  "language_info": {
   "codemirror_mode": {
    "name": "ipython",
    "version": 3
   },
   "file_extension": ".py",
   "mimetype": "text/x-python",
   "name": "python",
   "nbconvert_exporter": "python",
   "pygments_lexer": "ipython3",
   "version": "3.6.1"
  }
 },
 "nbformat": 4,
 "nbformat_minor": 2
}
