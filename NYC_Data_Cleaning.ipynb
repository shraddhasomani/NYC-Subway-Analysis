{
 "cells": [
  {
   "cell_type": "code",
   "execution_count": 1,
   "metadata": {
    "collapsed": true
   },
   "outputs": [],
   "source": [
    "import urllib\n",
    "import urllib.request\n",
    "import datetime\n",
    "import pandas as pd\n",
    "import numpy as np\n",
    "from pandas import read_csv  \n",
    "import random as rd # generating random numbers\n",
    "#from datetime import datetime\n",
    "import os\n",
    "%matplotlib inline\n",
    "import matplotlib.pyplot as plt\n",
    "import seaborn as sns"
   ]
  },
  {
   "cell_type": "code",
   "execution_count": 125,
   "metadata": {},
   "outputs": [
    {
     "data": {
      "text/html": [
       "<div>\n",
       "<style>\n",
       "    .dataframe thead tr:only-child th {\n",
       "        text-align: right;\n",
       "    }\n",
       "\n",
       "    .dataframe thead th {\n",
       "        text-align: left;\n",
       "    }\n",
       "\n",
       "    .dataframe tbody tr th {\n",
       "        vertical-align: top;\n",
       "    }\n",
       "</style>\n",
       "<table border=\"1\" class=\"dataframe\">\n",
       "  <thead>\n",
       "    <tr style=\"text-align: right;\">\n",
       "      <th></th>\n",
       "      <th>C/A</th>\n",
       "      <th>UNIT</th>\n",
       "      <th>SCP</th>\n",
       "      <th>STATION</th>\n",
       "      <th>LINENAME</th>\n",
       "      <th>DIVISION</th>\n",
       "      <th>DATE</th>\n",
       "      <th>TIME</th>\n",
       "      <th>DESC</th>\n",
       "      <th>ENTRIES</th>\n",
       "      <th>EXITS</th>\n",
       "    </tr>\n",
       "  </thead>\n",
       "  <tbody>\n",
       "    <tr>\n",
       "      <th>count</th>\n",
       "      <td>10267862</td>\n",
       "      <td>10267862</td>\n",
       "      <td>10267862</td>\n",
       "      <td>10267862</td>\n",
       "      <td>10267862</td>\n",
       "      <td>10267862</td>\n",
       "      <td>10267862</td>\n",
       "      <td>10267862</td>\n",
       "      <td>10267862</td>\n",
       "      <td>10267862</td>\n",
       "      <td>10267862</td>\n",
       "    </tr>\n",
       "    <tr>\n",
       "      <th>unique</th>\n",
       "      <td>732</td>\n",
       "      <td>468</td>\n",
       "      <td>220</td>\n",
       "      <td>377</td>\n",
       "      <td>129</td>\n",
       "      <td>7</td>\n",
       "      <td>372</td>\n",
       "      <td>85384</td>\n",
       "      <td>3</td>\n",
       "      <td>6860803</td>\n",
       "      <td>6738931</td>\n",
       "    </tr>\n",
       "    <tr>\n",
       "      <th>top</th>\n",
       "      <td>PTH05</td>\n",
       "      <td>R549</td>\n",
       "      <td>00-00-00</td>\n",
       "      <td>34 ST-PENN STA</td>\n",
       "      <td>1</td>\n",
       "      <td>IRT</td>\n",
       "      <td>02/19/2016</td>\n",
       "      <td>04:00:00</td>\n",
       "      <td>REGULAR</td>\n",
       "      <td>0</td>\n",
       "      <td>0</td>\n",
       "    </tr>\n",
       "    <tr>\n",
       "      <th>freq</th>\n",
       "      <td>54629</td>\n",
       "      <td>131650</td>\n",
       "      <td>1028471</td>\n",
       "      <td>223582</td>\n",
       "      <td>1157633</td>\n",
       "      <td>3790711</td>\n",
       "      <td>34773</td>\n",
       "      <td>794799</td>\n",
       "      <td>10225225</td>\n",
       "      <td>134111</td>\n",
       "      <td>258467</td>\n",
       "    </tr>\n",
       "  </tbody>\n",
       "</table>\n",
       "</div>"
      ],
      "text/plain": [
       "             C/A      UNIT       SCP         STATION  LINENAME  DIVISION  \\\n",
       "count   10267862  10267862  10267862        10267862  10267862  10267862   \n",
       "unique       732       468       220             377       129         7   \n",
       "top        PTH05      R549  00-00-00  34 ST-PENN STA         1       IRT   \n",
       "freq       54629    131650   1028471          223582   1157633   3790711   \n",
       "\n",
       "              DATE      TIME      DESC   ENTRIES  \\\n",
       "count     10267862  10267862  10267862  10267862   \n",
       "unique         372     85384         3   6860803   \n",
       "top     02/19/2016  04:00:00   REGULAR         0   \n",
       "freq         34773    794799  10225225    134111   \n",
       "\n",
       "        EXITS                                                                 \n",
       "count                                            10267862                     \n",
       "unique                                            6738931                     \n",
       "top                                                     0                     \n",
       "freq                                               258467                     "
      ]
     },
     "execution_count": 125,
     "metadata": {},
     "output_type": "execute_result"
    }
   ],
   "source": [
    "df.describe()"
   ]
  },
  {
   "cell_type": "markdown",
   "metadata": {},
   "source": [
    "# Data Description"
   ]
  },
  {
   "cell_type": "markdown",
   "metadata": {},
   "source": [
    "The data file consists of 10267862 rows and 11 columns namely:\n",
    "1. C/A      = Control Area (A002)\n",
    "2. UNIT     = Remote Unit for a station (R051)\n",
    "3. SCP      = Subunit Channel Position represents an specific address for a device (02-00-00)\n",
    "4. STATION  = Represents the station name the device is located at\n",
    "5. LINENAME = Represents all train lines that can be boarded at this station. LINENAME 456NQR repersents train server for 4, 5, 6, N, Q, and R trains.\n",
    "6. DIVISION = Represents the Line originally the station belonged to\n",
    "    - IRT = Interborough Rapid Transit;\n",
    "    - BMT = Brooklyn-Manhattan Transit;\n",
    "    - IND = Independent Subway;\n",
    "    - PTH = Port Authority Trans-Hudson (PATH);\n",
    "    - RIT = Roosevelt Island Tram;\n",
    "    - SRT = Staten Island Rapid Transit;\n",
    "7. DATE     = Represents the date (MM-DD-YY)\n",
    "8. TIME     = Represents the time (hh:mm:ss) for a scheduled audit event\n",
    "9. DESc     = Represent the \"REGULAR\" scheduled audit event (Normally occurs every 4 hours)\n",
    "10. ENTRIES  = The cumulative entry register value for a device\n",
    "11. EXIST    = The cumulative exit register value for a device"
   ]
  },
  {
   "cell_type": "code",
   "execution_count": 126,
   "metadata": {},
   "outputs": [
    {
     "data": {
      "text/html": [
       "<div>\n",
       "<style>\n",
       "    .dataframe thead tr:only-child th {\n",
       "        text-align: right;\n",
       "    }\n",
       "\n",
       "    .dataframe thead th {\n",
       "        text-align: left;\n",
       "    }\n",
       "\n",
       "    .dataframe tbody tr th {\n",
       "        vertical-align: top;\n",
       "    }\n",
       "</style>\n",
       "<table border=\"1\" class=\"dataframe\">\n",
       "  <thead>\n",
       "    <tr style=\"text-align: right;\">\n",
       "      <th></th>\n",
       "      <th>C/A</th>\n",
       "      <th>UNIT</th>\n",
       "      <th>SCP</th>\n",
       "      <th>STATION</th>\n",
       "      <th>LINENAME</th>\n",
       "      <th>DIVISION</th>\n",
       "      <th>DATE</th>\n",
       "      <th>TIME</th>\n",
       "      <th>DESC</th>\n",
       "      <th>ENTRIES</th>\n",
       "      <th>EXITS</th>\n",
       "    </tr>\n",
       "  </thead>\n",
       "  <tbody>\n",
       "    <tr>\n",
       "      <th>0</th>\n",
       "      <td>A002</td>\n",
       "      <td>R051</td>\n",
       "      <td>02-00-00</td>\n",
       "      <td>59 ST</td>\n",
       "      <td>NQR456W</td>\n",
       "      <td>BMT</td>\n",
       "      <td>12/24/2016</td>\n",
       "      <td>03:00:00</td>\n",
       "      <td>REGULAR</td>\n",
       "      <td>5980509</td>\n",
       "      <td>2025806</td>\n",
       "    </tr>\n",
       "    <tr>\n",
       "      <th>1</th>\n",
       "      <td>A002</td>\n",
       "      <td>R051</td>\n",
       "      <td>02-00-00</td>\n",
       "      <td>59 ST</td>\n",
       "      <td>NQR456W</td>\n",
       "      <td>BMT</td>\n",
       "      <td>12/24/2016</td>\n",
       "      <td>07:00:00</td>\n",
       "      <td>REGULAR</td>\n",
       "      <td>5980531</td>\n",
       "      <td>2025818</td>\n",
       "    </tr>\n",
       "    <tr>\n",
       "      <th>2</th>\n",
       "      <td>A002</td>\n",
       "      <td>R051</td>\n",
       "      <td>02-00-00</td>\n",
       "      <td>59 ST</td>\n",
       "      <td>NQR456W</td>\n",
       "      <td>BMT</td>\n",
       "      <td>12/24/2016</td>\n",
       "      <td>11:00:00</td>\n",
       "      <td>REGULAR</td>\n",
       "      <td>5980613</td>\n",
       "      <td>2025912</td>\n",
       "    </tr>\n",
       "    <tr>\n",
       "      <th>3</th>\n",
       "      <td>A002</td>\n",
       "      <td>R051</td>\n",
       "      <td>02-00-00</td>\n",
       "      <td>59 ST</td>\n",
       "      <td>NQR456W</td>\n",
       "      <td>BMT</td>\n",
       "      <td>12/24/2016</td>\n",
       "      <td>15:00:00</td>\n",
       "      <td>REGULAR</td>\n",
       "      <td>5980899</td>\n",
       "      <td>2025965</td>\n",
       "    </tr>\n",
       "    <tr>\n",
       "      <th>4</th>\n",
       "      <td>A002</td>\n",
       "      <td>R051</td>\n",
       "      <td>02-00-00</td>\n",
       "      <td>59 ST</td>\n",
       "      <td>NQR456W</td>\n",
       "      <td>BMT</td>\n",
       "      <td>12/24/2016</td>\n",
       "      <td>19:00:00</td>\n",
       "      <td>REGULAR</td>\n",
       "      <td>5981382</td>\n",
       "      <td>2026001</td>\n",
       "    </tr>\n",
       "  </tbody>\n",
       "</table>\n",
       "</div>"
      ],
      "text/plain": [
       "    C/A  UNIT       SCP STATION LINENAME DIVISION        DATE      TIME  \\\n",
       "0  A002  R051  02-00-00   59 ST  NQR456W      BMT  12/24/2016  03:00:00   \n",
       "1  A002  R051  02-00-00   59 ST  NQR456W      BMT  12/24/2016  07:00:00   \n",
       "2  A002  R051  02-00-00   59 ST  NQR456W      BMT  12/24/2016  11:00:00   \n",
       "3  A002  R051  02-00-00   59 ST  NQR456W      BMT  12/24/2016  15:00:00   \n",
       "4  A002  R051  02-00-00   59 ST  NQR456W      BMT  12/24/2016  19:00:00   \n",
       "\n",
       "      DESC  ENTRIES  \\\n",
       "0  REGULAR  5980509   \n",
       "1  REGULAR  5980531   \n",
       "2  REGULAR  5980613   \n",
       "3  REGULAR  5980899   \n",
       "4  REGULAR  5981382   \n",
       "\n",
       "  EXITS                                                                 \n",
       "0                                            2025806                    \n",
       "1                                            2025818                    \n",
       "2                                            2025912                    \n",
       "3                                            2025965                    \n",
       "4                                            2026001                    "
      ]
     },
     "execution_count": 126,
     "metadata": {},
     "output_type": "execute_result"
    }
   ],
   "source": [
    "df.head()"
   ]
  },
  {
   "cell_type": "code",
   "execution_count": 127,
   "metadata": {
    "scrolled": true
   },
   "outputs": [
    {
     "data": {
      "text/html": [
       "<div>\n",
       "<style>\n",
       "    .dataframe thead tr:only-child th {\n",
       "        text-align: right;\n",
       "    }\n",
       "\n",
       "    .dataframe thead th {\n",
       "        text-align: left;\n",
       "    }\n",
       "\n",
       "    .dataframe tbody tr th {\n",
       "        vertical-align: top;\n",
       "    }\n",
       "</style>\n",
       "<table border=\"1\" class=\"dataframe\">\n",
       "  <thead>\n",
       "    <tr style=\"text-align: right;\">\n",
       "      <th></th>\n",
       "      <th>C/A</th>\n",
       "      <th>UNIT</th>\n",
       "      <th>SCP</th>\n",
       "      <th>STATION</th>\n",
       "      <th>LINENAME</th>\n",
       "      <th>DIVISION</th>\n",
       "      <th>DATE</th>\n",
       "      <th>TIME</th>\n",
       "      <th>DESC</th>\n",
       "      <th>ENTRIES</th>\n",
       "      <th>EXITS</th>\n",
       "    </tr>\n",
       "  </thead>\n",
       "  <tbody>\n",
       "    <tr>\n",
       "      <th>10267857</th>\n",
       "      <td>TRAM2</td>\n",
       "      <td>R469</td>\n",
       "      <td>00-05-01</td>\n",
       "      <td>RIT-ROOSEVELT</td>\n",
       "      <td>R</td>\n",
       "      <td>RIT</td>\n",
       "      <td>01/01/2016</td>\n",
       "      <td>04:00:00</td>\n",
       "      <td>REGULAR</td>\n",
       "      <td>5554</td>\n",
       "      <td>230</td>\n",
       "    </tr>\n",
       "    <tr>\n",
       "      <th>10267858</th>\n",
       "      <td>TRAM2</td>\n",
       "      <td>R469</td>\n",
       "      <td>00-05-01</td>\n",
       "      <td>RIT-ROOSEVELT</td>\n",
       "      <td>R</td>\n",
       "      <td>RIT</td>\n",
       "      <td>01/01/2016</td>\n",
       "      <td>08:00:00</td>\n",
       "      <td>REGULAR</td>\n",
       "      <td>5554</td>\n",
       "      <td>230</td>\n",
       "    </tr>\n",
       "    <tr>\n",
       "      <th>10267859</th>\n",
       "      <td>TRAM2</td>\n",
       "      <td>R469</td>\n",
       "      <td>00-05-01</td>\n",
       "      <td>RIT-ROOSEVELT</td>\n",
       "      <td>R</td>\n",
       "      <td>RIT</td>\n",
       "      <td>01/01/2016</td>\n",
       "      <td>12:00:00</td>\n",
       "      <td>REGULAR</td>\n",
       "      <td>5554</td>\n",
       "      <td>230</td>\n",
       "    </tr>\n",
       "    <tr>\n",
       "      <th>10267860</th>\n",
       "      <td>TRAM2</td>\n",
       "      <td>R469</td>\n",
       "      <td>00-05-01</td>\n",
       "      <td>RIT-ROOSEVELT</td>\n",
       "      <td>R</td>\n",
       "      <td>RIT</td>\n",
       "      <td>01/01/2016</td>\n",
       "      <td>16:00:00</td>\n",
       "      <td>REGULAR</td>\n",
       "      <td>5554</td>\n",
       "      <td>230</td>\n",
       "    </tr>\n",
       "    <tr>\n",
       "      <th>10267861</th>\n",
       "      <td>TRAM2</td>\n",
       "      <td>R469</td>\n",
       "      <td>00-05-01</td>\n",
       "      <td>RIT-ROOSEVELT</td>\n",
       "      <td>R</td>\n",
       "      <td>RIT</td>\n",
       "      <td>01/01/2016</td>\n",
       "      <td>20:00:00</td>\n",
       "      <td>REGULAR</td>\n",
       "      <td>5554</td>\n",
       "      <td>230</td>\n",
       "    </tr>\n",
       "  </tbody>\n",
       "</table>\n",
       "</div>"
      ],
      "text/plain": [
       "            C/A  UNIT       SCP        STATION LINENAME DIVISION        DATE  \\\n",
       "10267857  TRAM2  R469  00-05-01  RIT-ROOSEVELT        R      RIT  01/01/2016   \n",
       "10267858  TRAM2  R469  00-05-01  RIT-ROOSEVELT        R      RIT  01/01/2016   \n",
       "10267859  TRAM2  R469  00-05-01  RIT-ROOSEVELT        R      RIT  01/01/2016   \n",
       "10267860  TRAM2  R469  00-05-01  RIT-ROOSEVELT        R      RIT  01/01/2016   \n",
       "10267861  TRAM2  R469  00-05-01  RIT-ROOSEVELT        R      RIT  01/01/2016   \n",
       "\n",
       "              TIME     DESC ENTRIES  \\\n",
       "10267857  04:00:00  REGULAR    5554   \n",
       "10267858  08:00:00  REGULAR    5554   \n",
       "10267859  12:00:00  REGULAR    5554   \n",
       "10267860  16:00:00  REGULAR    5554   \n",
       "10267861  20:00:00  REGULAR    5554   \n",
       "\n",
       "         EXITS                                                                 \n",
       "10267857                                                230                    \n",
       "10267858                                                230                    \n",
       "10267859                                                230                    \n",
       "10267860                                                230                    \n",
       "10267861                                                230                    "
      ]
     },
     "execution_count": 127,
     "metadata": {},
     "output_type": "execute_result"
    }
   ],
   "source": [
    "df.tail()"
   ]
  },
  {
   "cell_type": "markdown",
   "metadata": {},
   "source": [
    "# Data Cleaning "
   ]
  },
  {
   "cell_type": "code",
   "execution_count": 128,
   "metadata": {},
   "outputs": [
    {
     "data": {
      "text/plain": [
       "Index(['C/A', 'UNIT', 'SCP', 'STATION', 'LINENAME', 'DIVISION', 'DATE', 'TIME',\n",
       "       'DESC', 'ENTRIES',\n",
       "       'EXITS                                                               '],\n",
       "      dtype='object')"
      ]
     },
     "execution_count": 128,
     "metadata": {},
     "output_type": "execute_result"
    }
   ],
   "source": [
    "df.columns"
   ]
  },
  {
   "cell_type": "markdown",
   "metadata": {},
   "source": [
    "#### Remove white space from header"
   ]
  },
  {
   "cell_type": "code",
   "execution_count": 129,
   "metadata": {},
   "outputs": [
    {
     "data": {
      "text/plain": [
       "Index(['C/A', 'UNIT', 'SCP', 'STATION', 'LINENAME', 'DIVISION', 'DATE', 'TIME',\n",
       "       'DESC', 'ENTRIES', 'EXITS'],\n",
       "      dtype='object')"
      ]
     },
     "execution_count": 129,
     "metadata": {},
     "output_type": "execute_result"
    }
   ],
   "source": [
    "df.columns = df.columns.str.strip()\n",
    "df.columns"
   ]
  },
  {
   "cell_type": "markdown",
   "metadata": {},
   "source": [
    "#### Drop duplicate value"
   ]
  },
  {
   "cell_type": "code",
   "execution_count": 130,
   "metadata": {},
   "outputs": [
    {
     "data": {
      "text/plain": [
       "False    10267811\n",
       "True           51\n",
       "dtype: int64"
      ]
     },
     "execution_count": 130,
     "metadata": {},
     "output_type": "execute_result"
    }
   ],
   "source": [
    "df.duplicated().value_counts()"
   ]
  },
  {
   "cell_type": "code",
   "execution_count": 131,
   "metadata": {
    "collapsed": true
   },
   "outputs": [],
   "source": [
    "df = df.drop_duplicates()"
   ]
  },
  {
   "cell_type": "markdown",
   "metadata": {},
   "source": [
    "#### Drop NA values, if any"
   ]
  },
  {
   "cell_type": "code",
   "execution_count": 132,
   "metadata": {
    "collapsed": true
   },
   "outputs": [],
   "source": [
    "df = df.dropna()"
   ]
  },
  {
   "cell_type": "markdown",
   "metadata": {},
   "source": [
    "#### Check unique values "
   ]
  },
  {
   "cell_type": "code",
   "execution_count": 133,
   "metadata": {
    "collapsed": true
   },
   "outputs": [],
   "source": [
    "df['C/A'].unique()\n",
    "df = df.drop(df[df['C/A'] == 'C/A'].index)\n",
    "# df['UNIT'].unique()\n",
    "# df = df.drop(df[df['UNIT'] == 'UNIT'].index)\n",
    "# df['SCP'].unique()\n",
    "# df = df.drop(df[df['SCP'] == 'SCP'].index)\n",
    "# df = df.drop(df[df['SCP'] == ''].index)\n",
    "# df['LINENAME'].unique()\n",
    "# df = df.drop(df[df['LINENAME'] == 'LINENAME'].index)\n",
    "# df['DIVISION'].unique()\n",
    "# df = df.drop(df[df['DIVISION'] == 'DIVISION'].index)\n",
    "# df['DATE'].unique()\n",
    "# df = df.drop(df[df['DATE'] == 'DATE'].index)\n",
    "# df['DESC'].unique()\n",
    "# df = df.drop(df[df['DESC'] == 'DESC'].index)"
   ]
  },
  {
   "cell_type": "markdown",
   "metadata": {},
   "source": [
    "#### Renaming station names "
   ]
  },
  {
   "cell_type": "code",
   "execution_count": 134,
   "metadata": {
    "collapsed": true
   },
   "outputs": [],
   "source": [
    "df['STATION'] = df['STATION'].replace(['AVENUE', 'AVEE', 'AV'], 'AVE')"
   ]
  },
  {
   "cell_type": "code",
   "execution_count": 135,
   "metadata": {
    "collapsed": true
   },
   "outputs": [],
   "source": [
    "df['STATION'] = df['STATION'].replace(['PKWY'], 'PARKWAY')"
   ]
  },
  {
   "cell_type": "code",
   "execution_count": 136,
   "metadata": {
    "collapsed": true
   },
   "outputs": [],
   "source": [
    "df.loc[df['STATION'] == 'TIMES SQ-42 ST', 'STATION'] = '42 ST-TIMES SQ'\n",
    "df.loc[df['STATION'] == '137 ST CITY COL', 'STATION'] = '137 ST-CITY COL'\n",
    "df.loc[df['STATION'] == '182-183 STS', 'STATION'] = '182-183 ST'\n",
    "df.loc[df['STATION'] == '33 ST-RAWSON ST', 'STATION'] = '33 ST/RAWSON ST'\n",
    "df.loc[df['STATION'] == '40 ST LOWERY ST', 'STATION'] = '40 ST-LOWERY ST'\n",
    "df.loc[df['STATION'] == '5 AVE/59 ST', 'STATION'] = '5 AVE-59 ST'\n",
    "df.loc[df['STATION'] == '59 ST COLUMBUS', 'STATION'] = '59 ST-COLUMBUS'\n",
    "df.loc[df['STATION'] == 'ASTOR PL', 'STATION'] = 'ASTOR PLACE'\n",
    "df.loc[df['STATION'] == 'BEDFORD PK BLVD', 'STATION'] = 'BEDFORD PARK BL'\n",
    "df.loc[df['STATION'] == 'BEVERLY RD', 'STATION'] = 'BEVERLY ROAD'\n",
    "df.loc[df['STATION'] == 'CORTELYOU RD', 'STATION'] = 'CORTELYOU ROAD'\n",
    "df.loc[df['STATION'] == 'FRESH POND RD', 'STATION'] = 'FRESH POND ROAD'\n",
    "df.loc[df['STATION'] == 'HOWARD BCH JFK', 'STATION'] = 'HOWARD BCH-JFK'\n",
    "df.loc[df['STATION'] == 'NECK RD', 'STATION'] = 'NECK ROAD'\n",
    "df.loc[df['STATION'] == 'VERNON-JACKSON', 'STATION'] = 'VERNON/JACKSON'\n",
    "df.loc[df['STATION'] == 'WAKEFIELD/241', 'STATION'] = 'WAKEFIELD-241'\n",
    "df.loc[df['STATION'] == 'GRD CNTRL-42 ST', 'STATION'] = '42 ST-GRD CNTRL'"
   ]
  },
  {
   "cell_type": "markdown",
   "metadata": {},
   "source": [
    "#### Drop stations names that do not exists"
   ]
  },
  {
   "cell_type": "code",
   "execution_count": 137,
   "metadata": {
    "collapsed": true
   },
   "outputs": [],
   "source": [
    "df.loc[df['STATION'] == '161/YANKEE STAD', 'STATION'] = 0\n",
    "df.loc[df['STATION'] == '168 ST', 'STATION'] = 0\n",
    "df.loc[df['STATION'] == '138/GRAND CONC', 'STATION'] = 0\n",
    "df.loc[df['STATION'] == '3 AVE-149 ST', 'STATION'] = 0\n",
    "df.loc[df['STATION'] == '30 AVE', 'STATION'] = 0\n",
    "df.loc[df['STATION'] == '34 ST-HUDSON YD', 'STATION'] = 0\n",
    "df.loc[df['STATION'] == '36 AVE', 'STATION'] = 0\n",
    "df.loc[df['STATION'] == '4 AVE-9 ST', 'STATION'] = 0\n",
    "df.loc[df['STATION'] == '42 ST-PORT AUTH', 'STATION'] = 0\n",
    "df.loc[df['STATION'] == '80 ST', 'STATION'] = 0\n",
    "df.loc[df['STATION'] == '88 ST', 'STATION'] = 0\n",
    "df.loc[df['STATION'] == 'BROADWAY JCT', 'STATION'] = 0\n",
    "df.loc[df['STATION'] == \"B'WAY-LAFAYETTE\", 'STATION'] = 0\n",
    "df.loc[df['STATION'] == 'CANARSIE-ROCKAW', 'STATION'] = 0\n",
    "df.loc[df['STATION'] == 'CATHEDRAL PARKWAY', 'STATION'] = 0\n",
    "df.loc[df['STATION'] == 'EASTCHSTER/DYRE', 'STATION'] = 0\n",
    "df.loc[df['STATION'] == 'FLATBUSH AVE-B.C', 'STATION'] = 0\n",
    "df.loc[df['STATION'] == 'HARLEM 148 ST', 'STATION'] = 0\n",
    "df.loc[df['STATION'] == 'KEW GARDENS', 'STATION'] = 0\n",
    "df.loc[df['STATION'] == 'LEXINGTON AVE/63', 'STATION'] = 0\n",
    "df.loc[df['STATION'] == 'MORISN AVE/SNDVW', 'STATION'] = 0\n",
    "df.loc[df['STATION'] == 'NEWKIRK PLAZA', 'STATION'] = 0\n",
    "df.loc[df['STATION'] == 'OZONE PK LEFFRT', 'STATION'] = 0\n",
    "df.loc[df['STATION'] == 'PARKCHESTER', 'STATION'] = 0\n",
    "df.loc[df['STATION'] == 'PATH NEW WTC', 'STATION'] = 0\n",
    "df.loc[df['STATION'] == 'SUTPHIN-ARCHER', 'STATION'] = 0\n",
    "df.loc[df['STATION'] == 'SUTTER AVE-RUTLD', 'STATION'] = 0\n",
    "df.loc[df['STATION'] == 'V.CORTLANDT PK', 'STATION'] = 0"
   ]
  },
  {
   "cell_type": "code",
   "execution_count": 138,
   "metadata": {
    "collapsed": true
   },
   "outputs": [],
   "source": [
    "df = df.drop(df[df['STATION'] == 0].index)"
   ]
  },
  {
   "cell_type": "markdown",
   "metadata": {
    "collapsed": true
   },
   "source": [
    "#### Format date "
   ]
  },
  {
   "cell_type": "code",
   "execution_count": 139,
   "metadata": {
    "collapsed": true
   },
   "outputs": [],
   "source": [
    "df['DATETIME'] = pd.to_datetime(df['DATE'] + ' ' + df['TIME'], format = \"%m/%d/%Y %H:%M:%S\", errors = 'coerce')"
   ]
  },
  {
   "cell_type": "code",
   "execution_count": 140,
   "metadata": {
    "collapsed": true
   },
   "outputs": [],
   "source": [
    "df['YEAR'] = df['DATETIME'].dt.year.astype(int)\n",
    "df['MONTH'] = df['DATETIME'].dt.month.astype(int)\n",
    "df['DAY'] = df['DATETIME'].dt.day.astype(int)\n",
    "df['WEEKDAY'] = df['DATETIME'].dt.weekday_name\n",
    "df['HOUR'] = df['DATETIME'].dt.hour.astype(int)\n",
    "df['TIME'] = df['DATETIME'].dt.time"
   ]
  },
  {
   "cell_type": "code",
   "execution_count": 141,
   "metadata": {},
   "outputs": [
    {
     "data": {
      "text/html": [
       "<div>\n",
       "<style>\n",
       "    .dataframe thead tr:only-child th {\n",
       "        text-align: right;\n",
       "    }\n",
       "\n",
       "    .dataframe thead th {\n",
       "        text-align: left;\n",
       "    }\n",
       "\n",
       "    .dataframe tbody tr th {\n",
       "        vertical-align: top;\n",
       "    }\n",
       "</style>\n",
       "<table border=\"1\" class=\"dataframe\">\n",
       "  <thead>\n",
       "    <tr style=\"text-align: right;\">\n",
       "      <th></th>\n",
       "      <th>C/A</th>\n",
       "      <th>UNIT</th>\n",
       "      <th>SCP</th>\n",
       "      <th>STATION</th>\n",
       "      <th>LINENAME</th>\n",
       "      <th>DIVISION</th>\n",
       "      <th>DATE</th>\n",
       "      <th>TIME</th>\n",
       "      <th>DESC</th>\n",
       "      <th>ENTRIES</th>\n",
       "      <th>EXITS</th>\n",
       "      <th>DATETIME</th>\n",
       "      <th>YEAR</th>\n",
       "      <th>MONTH</th>\n",
       "      <th>DAY</th>\n",
       "      <th>WEEKDAY</th>\n",
       "      <th>HOUR</th>\n",
       "    </tr>\n",
       "  </thead>\n",
       "  <tbody>\n",
       "    <tr>\n",
       "      <th>0</th>\n",
       "      <td>A002</td>\n",
       "      <td>R051</td>\n",
       "      <td>02-00-00</td>\n",
       "      <td>59 ST</td>\n",
       "      <td>NQR456W</td>\n",
       "      <td>BMT</td>\n",
       "      <td>12/24/2016</td>\n",
       "      <td>03:00:00</td>\n",
       "      <td>REGULAR</td>\n",
       "      <td>5980509</td>\n",
       "      <td>2025806</td>\n",
       "      <td>2016-12-24 03:00:00</td>\n",
       "      <td>2016</td>\n",
       "      <td>12</td>\n",
       "      <td>24</td>\n",
       "      <td>Saturday</td>\n",
       "      <td>3</td>\n",
       "    </tr>\n",
       "    <tr>\n",
       "      <th>1</th>\n",
       "      <td>A002</td>\n",
       "      <td>R051</td>\n",
       "      <td>02-00-00</td>\n",
       "      <td>59 ST</td>\n",
       "      <td>NQR456W</td>\n",
       "      <td>BMT</td>\n",
       "      <td>12/24/2016</td>\n",
       "      <td>07:00:00</td>\n",
       "      <td>REGULAR</td>\n",
       "      <td>5980531</td>\n",
       "      <td>2025818</td>\n",
       "      <td>2016-12-24 07:00:00</td>\n",
       "      <td>2016</td>\n",
       "      <td>12</td>\n",
       "      <td>24</td>\n",
       "      <td>Saturday</td>\n",
       "      <td>7</td>\n",
       "    </tr>\n",
       "    <tr>\n",
       "      <th>2</th>\n",
       "      <td>A002</td>\n",
       "      <td>R051</td>\n",
       "      <td>02-00-00</td>\n",
       "      <td>59 ST</td>\n",
       "      <td>NQR456W</td>\n",
       "      <td>BMT</td>\n",
       "      <td>12/24/2016</td>\n",
       "      <td>11:00:00</td>\n",
       "      <td>REGULAR</td>\n",
       "      <td>5980613</td>\n",
       "      <td>2025912</td>\n",
       "      <td>2016-12-24 11:00:00</td>\n",
       "      <td>2016</td>\n",
       "      <td>12</td>\n",
       "      <td>24</td>\n",
       "      <td>Saturday</td>\n",
       "      <td>11</td>\n",
       "    </tr>\n",
       "    <tr>\n",
       "      <th>3</th>\n",
       "      <td>A002</td>\n",
       "      <td>R051</td>\n",
       "      <td>02-00-00</td>\n",
       "      <td>59 ST</td>\n",
       "      <td>NQR456W</td>\n",
       "      <td>BMT</td>\n",
       "      <td>12/24/2016</td>\n",
       "      <td>15:00:00</td>\n",
       "      <td>REGULAR</td>\n",
       "      <td>5980899</td>\n",
       "      <td>2025965</td>\n",
       "      <td>2016-12-24 15:00:00</td>\n",
       "      <td>2016</td>\n",
       "      <td>12</td>\n",
       "      <td>24</td>\n",
       "      <td>Saturday</td>\n",
       "      <td>15</td>\n",
       "    </tr>\n",
       "    <tr>\n",
       "      <th>4</th>\n",
       "      <td>A002</td>\n",
       "      <td>R051</td>\n",
       "      <td>02-00-00</td>\n",
       "      <td>59 ST</td>\n",
       "      <td>NQR456W</td>\n",
       "      <td>BMT</td>\n",
       "      <td>12/24/2016</td>\n",
       "      <td>19:00:00</td>\n",
       "      <td>REGULAR</td>\n",
       "      <td>5981382</td>\n",
       "      <td>2026001</td>\n",
       "      <td>2016-12-24 19:00:00</td>\n",
       "      <td>2016</td>\n",
       "      <td>12</td>\n",
       "      <td>24</td>\n",
       "      <td>Saturday</td>\n",
       "      <td>19</td>\n",
       "    </tr>\n",
       "  </tbody>\n",
       "</table>\n",
       "</div>"
      ],
      "text/plain": [
       "    C/A  UNIT       SCP STATION LINENAME DIVISION        DATE      TIME  \\\n",
       "0  A002  R051  02-00-00   59 ST  NQR456W      BMT  12/24/2016  03:00:00   \n",
       "1  A002  R051  02-00-00   59 ST  NQR456W      BMT  12/24/2016  07:00:00   \n",
       "2  A002  R051  02-00-00   59 ST  NQR456W      BMT  12/24/2016  11:00:00   \n",
       "3  A002  R051  02-00-00   59 ST  NQR456W      BMT  12/24/2016  15:00:00   \n",
       "4  A002  R051  02-00-00   59 ST  NQR456W      BMT  12/24/2016  19:00:00   \n",
       "\n",
       "      DESC  ENTRIES    EXITS            DATETIME  YEAR  MONTH  DAY   WEEKDAY  \\\n",
       "0  REGULAR  5980509  2025806 2016-12-24 03:00:00  2016     12   24  Saturday   \n",
       "1  REGULAR  5980531  2025818 2016-12-24 07:00:00  2016     12   24  Saturday   \n",
       "2  REGULAR  5980613  2025912 2016-12-24 11:00:00  2016     12   24  Saturday   \n",
       "3  REGULAR  5980899  2025965 2016-12-24 15:00:00  2016     12   24  Saturday   \n",
       "4  REGULAR  5981382  2026001 2016-12-24 19:00:00  2016     12   24  Saturday   \n",
       "\n",
       "   HOUR  \n",
       "0     3  \n",
       "1     7  \n",
       "2    11  \n",
       "3    15  \n",
       "4    19  "
      ]
     },
     "execution_count": 141,
     "metadata": {},
     "output_type": "execute_result"
    }
   ],
   "source": [
    "df.head()"
   ]
  },
  {
   "cell_type": "code",
   "execution_count": 142,
   "metadata": {},
   "outputs": [
    {
     "data": {
      "text/plain": [
       "array([12, 11, 10,  9,  8,  7,  6,  5,  4,  3,  2,  1], dtype=int64)"
      ]
     },
     "execution_count": 142,
     "metadata": {},
     "output_type": "execute_result"
    }
   ],
   "source": [
    "df['MONTH'].unique()"
   ]
  },
  {
   "cell_type": "code",
   "execution_count": 143,
   "metadata": {},
   "outputs": [
    {
     "data": {
      "text/plain": [
       "array(['Saturday', 'Sunday', 'Monday', 'Tuesday', 'Wednesday', 'Thursday',\n",
       "       'Friday'], dtype=object)"
      ]
     },
     "execution_count": 143,
     "metadata": {},
     "output_type": "execute_result"
    }
   ],
   "source": [
    "df['WEEKDAY'].unique()"
   ]
  },
  {
   "cell_type": "code",
   "execution_count": 148,
   "metadata": {},
   "outputs": [
    {
     "data": {
      "text/plain": [
       "array([ 3,  7, 11, 15, 19, 23,  1,  5,  9, 13, 17, 21,  8,  0,  4, 12, 16,\n",
       "       20,  2,  6, 10, 14, 18, 22], dtype=int64)"
      ]
     },
     "execution_count": 148,
     "metadata": {},
     "output_type": "execute_result"
    }
   ],
   "source": [
    "df['HOUR'].unique()"
   ]
  },
  {
   "cell_type": "markdown",
   "metadata": {},
   "source": [
    "#### Check unique year"
   ]
  },
  {
   "cell_type": "code",
   "execution_count": 149,
   "metadata": {},
   "outputs": [
    {
     "data": {
      "text/plain": [
       "array([2016, 2015], dtype=int64)"
      ]
     },
     "execution_count": 149,
     "metadata": {},
     "output_type": "execute_result"
    }
   ],
   "source": [
    "df['YEAR'].unique()"
   ]
  },
  {
   "cell_type": "markdown",
   "metadata": {},
   "source": [
    "#### Drop 2015 Year  "
   ]
  },
  {
   "cell_type": "code",
   "execution_count": 150,
   "metadata": {
    "collapsed": true
   },
   "outputs": [],
   "source": [
    "df = df.drop(df[df['YEAR'] == 2015].index)"
   ]
  },
  {
   "cell_type": "code",
   "execution_count": 151,
   "metadata": {},
   "outputs": [
    {
     "data": {
      "text/plain": [
       "C/A         9557107\n",
       "UNIT        9557107\n",
       "SCP         9557107\n",
       "STATION     9557107\n",
       "LINENAME    9557107\n",
       "DIVISION    9557107\n",
       "DATE        9557107\n",
       "TIME        9557107\n",
       "DESC        9557107\n",
       "ENTRIES     9557107\n",
       "EXITS       9557107\n",
       "DATETIME    9557107\n",
       "YEAR        9557107\n",
       "MONTH       9557107\n",
       "DAY         9557107\n",
       "WEEKDAY     9557107\n",
       "HOUR        9557107\n",
       "dtype: int64"
      ]
     },
     "execution_count": 151,
     "metadata": {},
     "output_type": "execute_result"
    }
   ],
   "source": [
    "df.count()"
   ]
  },
  {
   "cell_type": "markdown",
   "metadata": {},
   "source": [
    "After data cleaning and preprocessing, the total number of records are: 9557107 rows x 17 columns."
   ]
  }
 ],
 "metadata": {
  "kernelspec": {
   "display_name": "Python 3",
   "language": "python",
   "name": "python3"
  },
  "language_info": {
   "codemirror_mode": {
    "name": "ipython",
    "version": 3
   },
   "file_extension": ".py",
   "mimetype": "text/x-python",
   "name": "python",
   "nbconvert_exporter": "python",
   "pygments_lexer": "ipython3",
   "version": "3.6.1"
  }
 },
 "nbformat": 4,
 "nbformat_minor": 2
}
