{
 "cells": [
  {
   "cell_type": "code",
   "execution_count": 1,
   "metadata": {
    "collapsed": true
   },
   "outputs": [],
   "source": [
    "import urllib\n",
    "import urllib.request\n",
    "import datetime\n",
    "import pandas as pd\n",
    "import numpy as np\n",
    "from pandas import read_csv  \n",
    "import random as rd # generating random numbers\n",
    "# from datetime import datetime\n",
    "import os\n",
    "# %matplotlib inline\n",
    "# import matplotlib.pyplot as plt\n",
    "import seaborn as sns"
   ]
  },
  {
   "cell_type": "code",
   "execution_count": 124,
   "metadata": {},
   "outputs": [
    {
     "name": "stderr",
     "output_type": "stream",
     "text": [
      "C:\\Users\\Shraddha Somani\\Anaconda3\\lib\\site-packages\\IPython\\core\\interactiveshell.py:2717: DtypeWarning: Columns (9,10) have mixed types. Specify dtype option on import or set low_memory=False.\n",
      "  interactivity=interactivity, compiler=compiler, result=result)\n"
     ]
    }
   ],
   "source": [
    "df = read_csv('nyc_mta_data.csv')"
   ]
  },
  {
   "cell_type": "code",
   "execution_count": 125,
   "metadata": {},
   "outputs": [
    {
     "data": {
      "text/html": [
       "<div>\n",
       "<style>\n",
       "    .dataframe thead tr:only-child th {\n",
       "        text-align: right;\n",
       "    }\n",
       "\n",
       "    .dataframe thead th {\n",
       "        text-align: left;\n",
       "    }\n",
       "\n",
       "    .dataframe tbody tr th {\n",
       "        vertical-align: top;\n",
       "    }\n",
       "</style>\n",
       "<table border=\"1\" class=\"dataframe\">\n",
       "  <thead>\n",
       "    <tr style=\"text-align: right;\">\n",
       "      <th></th>\n",
       "      <th>C/A</th>\n",
       "      <th>UNIT</th>\n",
       "      <th>SCP</th>\n",
       "      <th>STATION</th>\n",
       "      <th>LINENAME</th>\n",
       "      <th>DIVISION</th>\n",
       "      <th>DATE</th>\n",
       "      <th>TIME</th>\n",
       "      <th>DESC</th>\n",
       "      <th>ENTRIES</th>\n",
       "      <th>EXITS</th>\n",
       "    </tr>\n",
       "  </thead>\n",
       "  <tbody>\n",
       "    <tr>\n",
       "      <th>count</th>\n",
       "      <td>10267862</td>\n",
       "      <td>10267862</td>\n",
       "      <td>10267862</td>\n",
       "      <td>10267862</td>\n",
       "      <td>10267862</td>\n",
       "      <td>10267862</td>\n",
       "      <td>10267862</td>\n",
       "      <td>10267862</td>\n",
       "      <td>10267862</td>\n",
       "      <td>10267862</td>\n",
       "      <td>10267862</td>\n",
       "    </tr>\n",
       "    <tr>\n",
       "      <th>unique</th>\n",
       "      <td>732</td>\n",
       "      <td>468</td>\n",
       "      <td>220</td>\n",
       "      <td>377</td>\n",
       "      <td>129</td>\n",
       "      <td>7</td>\n",
       "      <td>372</td>\n",
       "      <td>85384</td>\n",
       "      <td>3</td>\n",
       "      <td>6860803</td>\n",
       "      <td>6738931</td>\n",
       "    </tr>\n",
       "    <tr>\n",
       "      <th>top</th>\n",
       "      <td>PTH05</td>\n",
       "      <td>R549</td>\n",
       "      <td>00-00-00</td>\n",
       "      <td>34 ST-PENN STA</td>\n",
       "      <td>1</td>\n",
       "      <td>IRT</td>\n",
       "      <td>02/19/2016</td>\n",
       "      <td>04:00:00</td>\n",
       "      <td>REGULAR</td>\n",
       "      <td>0</td>\n",
       "      <td>0</td>\n",
       "    </tr>\n",
       "    <tr>\n",
       "      <th>freq</th>\n",
       "      <td>54629</td>\n",
       "      <td>131650</td>\n",
       "      <td>1028471</td>\n",
       "      <td>223582</td>\n",
       "      <td>1157633</td>\n",
       "      <td>3790711</td>\n",
       "      <td>34773</td>\n",
       "      <td>794799</td>\n",
       "      <td>10225225</td>\n",
       "      <td>134111</td>\n",
       "      <td>258467</td>\n",
       "    </tr>\n",
       "  </tbody>\n",
       "</table>\n",
       "</div>"
      ],
      "text/plain": [
       "             C/A      UNIT       SCP         STATION  LINENAME  DIVISION  \\\n",
       "count   10267862  10267862  10267862        10267862  10267862  10267862   \n",
       "unique       732       468       220             377       129         7   \n",
       "top        PTH05      R549  00-00-00  34 ST-PENN STA         1       IRT   \n",
       "freq       54629    131650   1028471          223582   1157633   3790711   \n",
       "\n",
       "              DATE      TIME      DESC   ENTRIES  \\\n",
       "count     10267862  10267862  10267862  10267862   \n",
       "unique         372     85384         3   6860803   \n",
       "top     02/19/2016  04:00:00   REGULAR         0   \n",
       "freq         34773    794799  10225225    134111   \n",
       "\n",
       "        EXITS                                                                 \n",
       "count                                            10267862                     \n",
       "unique                                            6738931                     \n",
       "top                                                     0                     \n",
       "freq                                               258467                     "
      ]
     },
     "execution_count": 125,
     "metadata": {},
     "output_type": "execute_result"
    }
   ],
   "source": [
    "df.describe()"
   ]
  },
  {
   "cell_type": "markdown",
   "metadata": {},
   "source": [
    "# Data Description"
   ]
  },
  {
   "cell_type": "markdown",
   "metadata": {},
   "source": [
    "The data file consists of 10267862 rows and 11 columns namely:\n",
    "1. C/A      = Control Area (A002)\n",
    "2. UNIT     = Remote Unit for a station (R051)\n",
    "3. SCP      = Subunit Channel Position represents an specific address for a device (02-00-00)\n",
    "4. STATION  = Represents the station name the device is located at\n",
    "5. LINENAME = Represents all train lines that can be boarded at this station. LINENAME 456NQR repersents train server for 4, 5, 6, N, Q, and R trains.\n",
    "6. DIVISION = Represents the Line originally the station belonged to\n",
    "    - IRT = Interborough Rapid Transit;\n",
    "    - BMT = Brooklyn-Manhattan Transit;\n",
    "    - IND = Independent Subway;\n",
    "    - PTH = Port Authority Trans-Hudson (PATH);\n",
    "    - RIT = Roosevelt Island Tram;\n",
    "    - SRT = Staten Island Rapid Transit;\n",
    "7. DATE     = Represents the date (MM-DD-YY)\n",
    "8. TIME     = Represents the time (hh:mm:ss) for a scheduled audit event\n",
    "9. DESc     = Represent the \"REGULAR\" scheduled audit event (Normally occurs every 4 hours)\n",
    "10. ENTRIES  = The cumulative entry register value for a device\n",
    "11. EXIST    = The cumulative exit register value for a device"
   ]
  },
  {
   "cell_type": "code",
   "execution_count": 126,
   "metadata": {},
   "outputs": [
    {
     "data": {
      "text/html": [
       "<div>\n",
       "<style>\n",
       "    .dataframe thead tr:only-child th {\n",
       "        text-align: right;\n",
       "    }\n",
       "\n",
       "    .dataframe thead th {\n",
       "        text-align: left;\n",
       "    }\n",
       "\n",
       "    .dataframe tbody tr th {\n",
       "        vertical-align: top;\n",
       "    }\n",
       "</style>\n",
       "<table border=\"1\" class=\"dataframe\">\n",
       "  <thead>\n",
       "    <tr style=\"text-align: right;\">\n",
       "      <th></th>\n",
       "      <th>C/A</th>\n",
       "      <th>UNIT</th>\n",
       "      <th>SCP</th>\n",
       "      <th>STATION</th>\n",
       "      <th>LINENAME</th>\n",
       "      <th>DIVISION</th>\n",
       "      <th>DATE</th>\n",
       "      <th>TIME</th>\n",
       "      <th>DESC</th>\n",
       "      <th>ENTRIES</th>\n",
       "      <th>EXITS</th>\n",
       "    </tr>\n",
       "  </thead>\n",
       "  <tbody>\n",
       "    <tr>\n",
       "      <th>0</th>\n",
       "      <td>A002</td>\n",
       "      <td>R051</td>\n",
       "      <td>02-00-00</td>\n",
       "      <td>59 ST</td>\n",
       "      <td>NQR456W</td>\n",
       "      <td>BMT</td>\n",
       "      <td>12/24/2016</td>\n",
       "      <td>03:00:00</td>\n",
       "      <td>REGULAR</td>\n",
       "      <td>5980509</td>\n",
       "      <td>2025806</td>\n",
       "    </tr>\n",
       "    <tr>\n",
       "      <th>1</th>\n",
       "      <td>A002</td>\n",
       "      <td>R051</td>\n",
       "      <td>02-00-00</td>\n",
       "      <td>59 ST</td>\n",
       "      <td>NQR456W</td>\n",
       "      <td>BMT</td>\n",
       "      <td>12/24/2016</td>\n",
       "      <td>07:00:00</td>\n",
       "      <td>REGULAR</td>\n",
       "      <td>5980531</td>\n",
       "      <td>2025818</td>\n",
       "    </tr>\n",
       "    <tr>\n",
       "      <th>2</th>\n",
       "      <td>A002</td>\n",
       "      <td>R051</td>\n",
       "      <td>02-00-00</td>\n",
       "      <td>59 ST</td>\n",
       "      <td>NQR456W</td>\n",
       "      <td>BMT</td>\n",
       "      <td>12/24/2016</td>\n",
       "      <td>11:00:00</td>\n",
       "      <td>REGULAR</td>\n",
       "      <td>5980613</td>\n",
       "      <td>2025912</td>\n",
       "    </tr>\n",
       "    <tr>\n",
       "      <th>3</th>\n",
       "      <td>A002</td>\n",
       "      <td>R051</td>\n",
       "      <td>02-00-00</td>\n",
       "      <td>59 ST</td>\n",
       "      <td>NQR456W</td>\n",
       "      <td>BMT</td>\n",
       "      <td>12/24/2016</td>\n",
       "      <td>15:00:00</td>\n",
       "      <td>REGULAR</td>\n",
       "      <td>5980899</td>\n",
       "      <td>2025965</td>\n",
       "    </tr>\n",
       "    <tr>\n",
       "      <th>4</th>\n",
       "      <td>A002</td>\n",
       "      <td>R051</td>\n",
       "      <td>02-00-00</td>\n",
       "      <td>59 ST</td>\n",
       "      <td>NQR456W</td>\n",
       "      <td>BMT</td>\n",
       "      <td>12/24/2016</td>\n",
       "      <td>19:00:00</td>\n",
       "      <td>REGULAR</td>\n",
       "      <td>5981382</td>\n",
       "      <td>2026001</td>\n",
       "    </tr>\n",
       "  </tbody>\n",
       "</table>\n",
       "</div>"
      ],
      "text/plain": [
       "    C/A  UNIT       SCP STATION LINENAME DIVISION        DATE      TIME  \\\n",
       "0  A002  R051  02-00-00   59 ST  NQR456W      BMT  12/24/2016  03:00:00   \n",
       "1  A002  R051  02-00-00   59 ST  NQR456W      BMT  12/24/2016  07:00:00   \n",
       "2  A002  R051  02-00-00   59 ST  NQR456W      BMT  12/24/2016  11:00:00   \n",
       "3  A002  R051  02-00-00   59 ST  NQR456W      BMT  12/24/2016  15:00:00   \n",
       "4  A002  R051  02-00-00   59 ST  NQR456W      BMT  12/24/2016  19:00:00   \n",
       "\n",
       "      DESC  ENTRIES  \\\n",
       "0  REGULAR  5980509   \n",
       "1  REGULAR  5980531   \n",
       "2  REGULAR  5980613   \n",
       "3  REGULAR  5980899   \n",
       "4  REGULAR  5981382   \n",
       "\n",
       "  EXITS                                                                 \n",
       "0                                            2025806                    \n",
       "1                                            2025818                    \n",
       "2                                            2025912                    \n",
       "3                                            2025965                    \n",
       "4                                            2026001                    "
      ]
     },
     "execution_count": 126,
     "metadata": {},
     "output_type": "execute_result"
    }
   ],
   "source": [
    "df.head()"
   ]
  },
  {
   "cell_type": "code",
   "execution_count": 127,
   "metadata": {
    "scrolled": true
   },
   "outputs": [
    {
     "data": {
      "text/html": [
       "<div>\n",
       "<style>\n",
       "    .dataframe thead tr:only-child th {\n",
       "        text-align: right;\n",
       "    }\n",
       "\n",
       "    .dataframe thead th {\n",
       "        text-align: left;\n",
       "    }\n",
       "\n",
       "    .dataframe tbody tr th {\n",
       "        vertical-align: top;\n",
       "    }\n",
       "</style>\n",
       "<table border=\"1\" class=\"dataframe\">\n",
       "  <thead>\n",
       "    <tr style=\"text-align: right;\">\n",
       "      <th></th>\n",
       "      <th>C/A</th>\n",
       "      <th>UNIT</th>\n",
       "      <th>SCP</th>\n",
       "      <th>STATION</th>\n",
       "      <th>LINENAME</th>\n",
       "      <th>DIVISION</th>\n",
       "      <th>DATE</th>\n",
       "      <th>TIME</th>\n",
       "      <th>DESC</th>\n",
       "      <th>ENTRIES</th>\n",
       "      <th>EXITS</th>\n",
       "    </tr>\n",
       "  </thead>\n",
       "  <tbody>\n",
       "    <tr>\n",
       "      <th>10267857</th>\n",
       "      <td>TRAM2</td>\n",
       "      <td>R469</td>\n",
       "      <td>00-05-01</td>\n",
       "      <td>RIT-ROOSEVELT</td>\n",
       "      <td>R</td>\n",
       "      <td>RIT</td>\n",
       "      <td>01/01/2016</td>\n",
       "      <td>04:00:00</td>\n",
       "      <td>REGULAR</td>\n",
       "      <td>5554</td>\n",
       "      <td>230</td>\n",
       "    </tr>\n",
       "    <tr>\n",
       "      <th>10267858</th>\n",
       "      <td>TRAM2</td>\n",
       "      <td>R469</td>\n",
       "      <td>00-05-01</td>\n",
       "      <td>RIT-ROOSEVELT</td>\n",
       "      <td>R</td>\n",
       "      <td>RIT</td>\n",
       "      <td>01/01/2016</td>\n",
       "      <td>08:00:00</td>\n",
       "      <td>REGULAR</td>\n",
       "      <td>5554</td>\n",
       "      <td>230</td>\n",
       "    </tr>\n",
       "    <tr>\n",
       "      <th>10267859</th>\n",
       "      <td>TRAM2</td>\n",
       "      <td>R469</td>\n",
       "      <td>00-05-01</td>\n",
       "      <td>RIT-ROOSEVELT</td>\n",
       "      <td>R</td>\n",
       "      <td>RIT</td>\n",
       "      <td>01/01/2016</td>\n",
       "      <td>12:00:00</td>\n",
       "      <td>REGULAR</td>\n",
       "      <td>5554</td>\n",
       "      <td>230</td>\n",
       "    </tr>\n",
       "    <tr>\n",
       "      <th>10267860</th>\n",
       "      <td>TRAM2</td>\n",
       "      <td>R469</td>\n",
       "      <td>00-05-01</td>\n",
       "      <td>RIT-ROOSEVELT</td>\n",
       "      <td>R</td>\n",
       "      <td>RIT</td>\n",
       "      <td>01/01/2016</td>\n",
       "      <td>16:00:00</td>\n",
       "      <td>REGULAR</td>\n",
       "      <td>5554</td>\n",
       "      <td>230</td>\n",
       "    </tr>\n",
       "    <tr>\n",
       "      <th>10267861</th>\n",
       "      <td>TRAM2</td>\n",
       "      <td>R469</td>\n",
       "      <td>00-05-01</td>\n",
       "      <td>RIT-ROOSEVELT</td>\n",
       "      <td>R</td>\n",
       "      <td>RIT</td>\n",
       "      <td>01/01/2016</td>\n",
       "      <td>20:00:00</td>\n",
       "      <td>REGULAR</td>\n",
       "      <td>5554</td>\n",
       "      <td>230</td>\n",
       "    </tr>\n",
       "  </tbody>\n",
       "</table>\n",
       "</div>"
      ],
      "text/plain": [
       "            C/A  UNIT       SCP        STATION LINENAME DIVISION        DATE  \\\n",
       "10267857  TRAM2  R469  00-05-01  RIT-ROOSEVELT        R      RIT  01/01/2016   \n",
       "10267858  TRAM2  R469  00-05-01  RIT-ROOSEVELT        R      RIT  01/01/2016   \n",
       "10267859  TRAM2  R469  00-05-01  RIT-ROOSEVELT        R      RIT  01/01/2016   \n",
       "10267860  TRAM2  R469  00-05-01  RIT-ROOSEVELT        R      RIT  01/01/2016   \n",
       "10267861  TRAM2  R469  00-05-01  RIT-ROOSEVELT        R      RIT  01/01/2016   \n",
       "\n",
       "              TIME     DESC ENTRIES  \\\n",
       "10267857  04:00:00  REGULAR    5554   \n",
       "10267858  08:00:00  REGULAR    5554   \n",
       "10267859  12:00:00  REGULAR    5554   \n",
       "10267860  16:00:00  REGULAR    5554   \n",
       "10267861  20:00:00  REGULAR    5554   \n",
       "\n",
       "         EXITS                                                                 \n",
       "10267857                                                230                    \n",
       "10267858                                                230                    \n",
       "10267859                                                230                    \n",
       "10267860                                                230                    \n",
       "10267861                                                230                    "
      ]
     },
     "execution_count": 127,
     "metadata": {},
     "output_type": "execute_result"
    }
   ],
   "source": [
    "df.tail()"
   ]
  },
  {
   "cell_type": "markdown",
   "metadata": {},
   "source": [
    "# Data Modeling"
   ]
  },
  {
   "cell_type": "code",
   "execution_count": 2,
   "metadata": {
    "collapsed": true
   },
   "outputs": [],
   "source": [
    "from sklearn.model_selection import train_test_split"
   ]
  },
  {
   "cell_type": "markdown",
   "metadata": {},
   "source": [
    "For data modeling, we split the data into - Train (70%) and Test (30%) "
   ]
  },
  {
   "cell_type": "code",
   "execution_count": 22,
   "metadata": {
    "collapsed": true
   },
   "outputs": [],
   "source": [
    "df_train, df_test = train_test_split(df_final, test_size = 0.3)\n",
    "# Dividing the df_train data again because the computer cannot handle huge amount of data\n",
    "df_train1, df_test1 = train_test_split(df_train, test_size = 0.3)\n",
    "df_train2, df_test2 = train_test_split(df_train1, test_size = 0.3)\n",
    "df_train3, df_test3 = train_test_split(df_train2, test_size = 0.3)\n",
    "df_train4, df_test4 = train_test_split(df_train3, test_size = 0.3)\n",
    "df_train5, df_test5 = train_test_split(df_train4, test_size = 0.3)\n",
    "df_train6, df_test6 = train_test_split(df_train5, test_size = 0.3)\n",
    "df_train7, df_test7 = train_test_split(df_train6, test_size = 0.3)\n",
    "df_train8, df_test8 = train_test_split(df_train7, test_size = 0.3)\n",
    "df_train9, df_test9 = train_test_split(df_train8, test_size = 0.3)\n",
    "df_train_final, df_test_final = train_test_split(df_train9, test_size = 0.3)"
   ]
  },
  {
   "cell_type": "code",
   "execution_count": 23,
   "metadata": {
    "collapsed": true
   },
   "outputs": [],
   "source": [
    "# Write the final train dataframe to csv file\n",
    "df_train_final.to_csv('nyc_mta_train_final.csv', index = False)"
   ]
  },
  {
   "cell_type": "code",
   "execution_count": 24,
   "metadata": {
    "collapsed": true
   },
   "outputs": [],
   "source": [
    "# Write the final test dataframe to csv file\n",
    "df_test_final.to_csv('nyc_mta_test_final.csv', index = False)"
   ]
  },
  {
   "cell_type": "code",
   "execution_count": 25,
   "metadata": {
    "collapsed": true
   },
   "outputs": [],
   "source": [
    "df_train = read_csv('nyc_mta_train_final.csv')"
   ]
  },
  {
   "cell_type": "code",
   "execution_count": 26,
   "metadata": {},
   "outputs": [
    {
     "data": {
      "text/plain": [
       "(188974, 18)"
      ]
     },
     "execution_count": 26,
     "metadata": {},
     "output_type": "execute_result"
    }
   ],
   "source": [
    "df_train.shape"
   ]
  },
  {
   "cell_type": "code",
   "execution_count": 27,
   "metadata": {
    "collapsed": true
   },
   "outputs": [],
   "source": [
    "df_test = read_csv('nyc_mta_test_final.csv')"
   ]
  },
  {
   "cell_type": "code",
   "execution_count": 28,
   "metadata": {},
   "outputs": [
    {
     "data": {
      "text/plain": [
       "(80989, 18)"
      ]
     },
     "execution_count": 28,
     "metadata": {},
     "output_type": "execute_result"
    }
   ],
   "source": [
    "df_test.shape"
   ]
  },
  {
   "cell_type": "code",
   "execution_count": 29,
   "metadata": {},
   "outputs": [
    {
     "data": {
      "text/plain": [
       "C/A            object\n",
       "UNIT           object\n",
       "SCP            object\n",
       "STATION        object\n",
       "LINENAME       object\n",
       "DIVISION       object\n",
       "DATE           object\n",
       "TIME           object\n",
       "DESC           object\n",
       "ENTRIES         int64\n",
       "EXITS           int64\n",
       "DATETIME       object\n",
       "YEAR            int64\n",
       "MONTH           int64\n",
       "DAY             int64\n",
       "WEEKDAY        object\n",
       "HOUR            int64\n",
       "TOTAL_COUNT     int64\n",
       "dtype: object"
      ]
     },
     "execution_count": 29,
     "metadata": {},
     "output_type": "execute_result"
    }
   ],
   "source": [
    "df_train.dtypes"
   ]
  },
  {
   "cell_type": "markdown",
   "metadata": {},
   "source": [
    "### Feature Selection "
   ]
  },
  {
   "cell_type": "markdown",
   "metadata": {},
   "source": [
    "We perform feature selection to identify most relevant features (variables, predictors) for constructing our model. Feature selection techniques are used for four reasons:\n",
    "\n",
    "- Simplification of models to make them easier to interpret by researchers/users\n",
    "- Shorter training times\n",
    "- To avoid the curse of dimensionality\n",
    "- Enhanced generalization by reducing overfitting\n",
    "\n",
    "Linear Regression & Principle Component Analysis (PCA) is performed to identify most significant variables that influences the entries and exits.\n",
    "\n",
    "After performing the above two techniques in R, the factors affecting the Entries count are:\n",
    "\n",
    "- C.A\n",
    "- UNIT\n",
    "- SCP\n",
    "- STATION\n",
    "- LINENAME\n",
    "- DIVISION \n",
    "- MONTH\n",
    "- HOUR\n",
    "\n",
    "For predicting the Entries, Random Forest & XGBoost Linear Regressor is used."
   ]
  },
  {
   "cell_type": "markdown",
   "metadata": {},
   "source": [
    "### Random Forest"
   ]
  },
  {
   "cell_type": "code",
   "execution_count": 30,
   "metadata": {
    "collapsed": true
   },
   "outputs": [],
   "source": [
    "import sklearn\n",
    "from sklearn.ensemble import RandomForestRegressor\n",
    "from sklearn.model_selection import GridSearchCV\n",
    "from sklearn.metrics import r2_score\n",
    "from sklearn.metrics import mean_squared_error\n",
    "from sklearn import preprocessing as pre\n",
    "!pip install xgboost\n",
    "from sklearn.model_selection import train_test_split\n",
    "from sklearn.preprocessing import LabelEncoder"
   ]
  },
  {
   "cell_type": "code",
   "execution_count": 31,
   "metadata": {
    "collapsed": true
   },
   "outputs": [],
   "source": [
    "df_model = df_train.loc[:,['C.A','UNIT','SCP','STATION','LINENAME','DIVISION','ENTRIES','MONTH','HOUR']]"
   ]
  },
  {
   "cell_type": "code",
   "execution_count": 32,
   "metadata": {},
   "outputs": [
    {
     "data": {
      "text/plain": [
       "C.A         float64\n",
       "UNIT         object\n",
       "SCP          object\n",
       "STATION      object\n",
       "LINENAME     object\n",
       "DIVISION     object\n",
       "ENTRIES       int64\n",
       "MONTH         int64\n",
       "HOUR          int64\n",
       "dtype: object"
      ]
     },
     "execution_count": 32,
     "metadata": {},
     "output_type": "execute_result"
    }
   ],
   "source": [
    "df_model.dtypes"
   ]
  },
  {
   "cell_type": "code",
   "execution_count": 33,
   "metadata": {
    "collapsed": true
   },
   "outputs": [],
   "source": [
    "# Changing the data type for the model as the regressor accepts only integer values\n",
    "number = LabelEncoder()\n",
    "\n",
    "df_model['C.A'] = number.fit_transform(df_model['C.A'])\n",
    "df_model['UNIT'] = number.fit_transform(df_model['UNIT'])\n",
    "df_model['SCP'] = number.fit_transform(df_model['SCP'])\n",
    "df_model['STATION'] = number.fit_transform(df_model['STATION'])\n",
    "df_model['LINENAME'] = number.fit_transform(df_model['LINENAME'])\n",
    "df_model['DIVISION'] = number.fit_transform(df_model['DIVISION'])"
   ]
  },
  {
   "cell_type": "code",
   "execution_count": 34,
   "metadata": {},
   "outputs": [
    {
     "data": {
      "text/html": [
       "<div>\n",
       "<style>\n",
       "    .dataframe thead tr:only-child th {\n",
       "        text-align: right;\n",
       "    }\n",
       "\n",
       "    .dataframe thead th {\n",
       "        text-align: left;\n",
       "    }\n",
       "\n",
       "    .dataframe tbody tr th {\n",
       "        vertical-align: top;\n",
       "    }\n",
       "</style>\n",
       "<table border=\"1\" class=\"dataframe\">\n",
       "  <thead>\n",
       "    <tr style=\"text-align: right;\">\n",
       "      <th></th>\n",
       "      <th>C.A</th>\n",
       "      <th>UNIT</th>\n",
       "      <th>SCP</th>\n",
       "      <th>STATION</th>\n",
       "      <th>LINENAME</th>\n",
       "      <th>DIVISION</th>\n",
       "      <th>ENTRIES</th>\n",
       "      <th>MONTH</th>\n",
       "      <th>HOUR</th>\n",
       "    </tr>\n",
       "  </thead>\n",
       "  <tbody>\n",
       "    <tr>\n",
       "      <th>0</th>\n",
       "      <td>0</td>\n",
       "      <td>295</td>\n",
       "      <td>45</td>\n",
       "      <td>256</td>\n",
       "      <td>80</td>\n",
       "      <td>1</td>\n",
       "      <td>3312</td>\n",
       "      <td>9</td>\n",
       "      <td>8</td>\n",
       "    </tr>\n",
       "    <tr>\n",
       "      <th>1</th>\n",
       "      <td>125975</td>\n",
       "      <td>271</td>\n",
       "      <td>0</td>\n",
       "      <td>57</td>\n",
       "      <td>4</td>\n",
       "      <td>2</td>\n",
       "      <td>5729268</td>\n",
       "      <td>8</td>\n",
       "      <td>14</td>\n",
       "    </tr>\n",
       "    <tr>\n",
       "      <th>2</th>\n",
       "      <td>125976</td>\n",
       "      <td>130</td>\n",
       "      <td>45</td>\n",
       "      <td>85</td>\n",
       "      <td>33</td>\n",
       "      <td>2</td>\n",
       "      <td>2695</td>\n",
       "      <td>5</td>\n",
       "      <td>21</td>\n",
       "    </tr>\n",
       "    <tr>\n",
       "      <th>3</th>\n",
       "      <td>125977</td>\n",
       "      <td>84</td>\n",
       "      <td>26</td>\n",
       "      <td>188</td>\n",
       "      <td>61</td>\n",
       "      <td>0</td>\n",
       "      <td>3621360</td>\n",
       "      <td>11</td>\n",
       "      <td>12</td>\n",
       "    </tr>\n",
       "    <tr>\n",
       "      <th>4</th>\n",
       "      <td>125978</td>\n",
       "      <td>243</td>\n",
       "      <td>2</td>\n",
       "      <td>266</td>\n",
       "      <td>95</td>\n",
       "      <td>0</td>\n",
       "      <td>135058151</td>\n",
       "      <td>6</td>\n",
       "      <td>8</td>\n",
       "    </tr>\n",
       "  </tbody>\n",
       "</table>\n",
       "</div>"
      ],
      "text/plain": [
       "      C.A  UNIT  SCP  STATION  LINENAME  DIVISION    ENTRIES  MONTH  HOUR\n",
       "0       0   295   45      256        80         1       3312      9     8\n",
       "1  125975   271    0       57         4         2    5729268      8    14\n",
       "2  125976   130   45       85        33         2       2695      5    21\n",
       "3  125977    84   26      188        61         0    3621360     11    12\n",
       "4  125978   243    2      266        95         0  135058151      6     8"
      ]
     },
     "execution_count": 34,
     "metadata": {},
     "output_type": "execute_result"
    }
   ],
   "source": [
    "df_model.head()"
   ]
  },
  {
   "cell_type": "code",
   "execution_count": 35,
   "metadata": {},
   "outputs": [
    {
     "name": "stdout",
     "output_type": "stream",
     "text": [
      "Shape X : (188974, 8)\n",
      "Shape y : (188974,)\n"
     ]
    }
   ],
   "source": [
    "# Train the data without ENTRIES\n",
    "train_data = df_model.reset_index(drop = True)\n",
    "y_labels = train_data['ENTRIES']\n",
    "X_train_data = train_data.drop(['ENTRIES'], axis = 1)\n",
    "print('Shape X :', X_train_data.shape)\n",
    "print('Shape y :', y_labels.shape)"
   ]
  },
  {
   "cell_type": "code",
   "execution_count": 36,
   "metadata": {},
   "outputs": [
    {
     "name": "stdout",
     "output_type": "stream",
     "text": [
      "X_train shape : (151179, 8)\n",
      "y_train shape : (151179,)\n",
      "X_validation shape : (37795, 8)\n",
      "y_validation shape : (37795,)\n"
     ]
    }
   ],
   "source": [
    "# Split the data into train & test\n",
    "num_test = 0.20\n",
    "X_train, X_validation, y_train, y_validation = train_test_split(X_train_data, y_labels, test_size=num_test, random_state=15)\n",
    "print('X_train shape :', X_train.shape)\n",
    "print('y_train shape :', y_train.shape)\n",
    "print('X_validation shape :', X_validation.shape)\n",
    "print('y_validation shape :', y_validation.shape)"
   ]
  },
  {
   "cell_type": "code",
   "execution_count": 37,
   "metadata": {},
   "outputs": [
    {
     "name": "stdout",
     "output_type": "stream",
     "text": [
      "Fitting 5 folds for each of 6 candidates, totalling 30 fits\n"
     ]
    },
    {
     "name": "stderr",
     "output_type": "stream",
     "text": [
      "[Parallel(n_jobs=-1)]: Done  30 out of  30 | elapsed:  7.6min finished\n"
     ]
    },
    {
     "data": {
      "text/plain": [
       "RandomForestRegressor(bootstrap=True, criterion='mse', max_depth=None,\n",
       "           max_features='auto', max_leaf_nodes=None,\n",
       "           min_impurity_split=1e-07, min_samples_leaf=1,\n",
       "           min_samples_split=2, min_weight_fraction_leaf=0.0,\n",
       "           n_estimators=100, n_jobs=1, oob_score=False, random_state=None,\n",
       "           verbose=0, warm_start=False)"
      ]
     },
     "execution_count": 37,
     "metadata": {},
     "output_type": "execute_result"
    }
   ],
   "source": [
    "# Choose the type of classifier. \n",
    "RFR = RandomForestRegressor()\n",
    "\n",
    "# Choose some parameter combinations. We can also try different parameters to find the best model\n",
    "parameters = {'n_estimators': [5, 10, 100],\n",
    "              #'criterion': ['mse'],\n",
    "              #'max_depth': [5, 10, 15], \n",
    "              #'min_samples_split': [2, 5, 10],\n",
    "              'min_samples_leaf': [1,5]\n",
    "             }\n",
    "\n",
    "# Type of scoring used to compare parameter combinations\n",
    "# We have to use RandomForestRegressor's own scorer (which is R^2 score)\n",
    "\n",
    "# Run the grid search\n",
    "grid_obj = GridSearchCV(RFR, parameters,\n",
    "                        cv=5, #Determines the cross-validation splitting strategy /to specify the number of folds in a (Stratified)KFold\n",
    "                        n_jobs=-1, #Number of jobs to run in parallel\n",
    "                        verbose=1)\n",
    "grid_obj = grid_obj.fit(X_train, y_train)\n",
    "\n",
    "# Set the clf to the best combination of parameters\n",
    "RFR = grid_obj.best_estimator_\n",
    "\n",
    "# Fit the best algorithm to the data. \n",
    "RFR.fit(X_train, y_train)"
   ]
  },
  {
   "cell_type": "code",
   "execution_count": 38,
   "metadata": {},
   "outputs": [
    {
     "name": "stdout",
     "output_type": "stream",
     "text": [
      "R2 score =  0.976098655729 / 1.0\n",
      "MSE score =  9.37405413393e+14 / 0.0\n"
     ]
    }
   ],
   "source": [
    "predictions = RFR.predict(X_validation)\n",
    "\n",
    "#if we want to Re-scale, use this lines of code :\n",
    "#predictions = predictions * (max_train - min_train) + min_train\n",
    "#y_validation_RF = y_validation * (max_train - min_train) + min_train\n",
    "\n",
    "#if not, keep this one:\n",
    "y_validation_RF = y_validation\n",
    "\n",
    "print('R2 score = ', r2_score(y_validation_RF, predictions), '/ 1.0')\n",
    "print('MSE score = ', mean_squared_error(y_validation_RF, predictions), '/ 0.0')"
   ]
  }
 ],
 "metadata": {
  "kernelspec": {
   "display_name": "Python 3",
   "language": "python",
   "name": "python3"
  },
  "language_info": {
   "codemirror_mode": {
    "name": "ipython",
    "version": 3
   },
   "file_extension": ".py",
   "mimetype": "text/x-python",
   "name": "python",
   "nbconvert_exporter": "python",
   "pygments_lexer": "ipython3",
   "version": "3.6.1"
  }
 },
 "nbformat": 4,
 "nbformat_minor": 2
}
